{
 "cells": [
  {
   "cell_type": "markdown",
   "metadata": {},
   "source": [
    "# Bookmark Clustering"
   ]
  },
  {
   "cell_type": "markdown",
   "metadata": {},
   "source": [
    "## Import Packages"
   ]
  },
  {
   "cell_type": "code",
   "execution_count": 1,
   "metadata": {
    "collapsed": true
   },
   "outputs": [],
   "source": [
    "import pandas as pd\n",
    "import numpy as np\n",
    "from sklearn.decomposition import LatentDirichletAllocation\n",
    "from sklearn.feature_extraction.text import CountVectorizer\n",
    "from sklearn.cluster import KMeans\n",
    "from sklearn.feature_extraction.text import TfidfVectorizer\n",
    "from sklearn.preprocessing import normalize\n",
    "import seaborn as sns\n",
    "from time import time\n",
    "import matplotlib.pyplot as plt \n",
    "%matplotlib inline"
   ]
  },
  {
   "cell_type": "code",
   "execution_count": 2,
   "metadata": {
    "collapsed": false
   },
   "outputs": [],
   "source": [
    "df = pd.read_pickle('Data/df_website_content.pkl')"
   ]
  },
  {
   "cell_type": "code",
   "execution_count": 3,
   "metadata": {
    "collapsed": false
   },
   "outputs": [],
   "source": [
    "df = df.drop_duplicates()"
   ]
  },
  {
   "cell_type": "code",
   "execution_count": 4,
   "metadata": {
    "collapsed": false
   },
   "outputs": [],
   "source": [
    "df = df[df['text'] != 'empty']"
   ]
  },
  {
   "cell_type": "code",
   "execution_count": 5,
   "metadata": {
    "collapsed": false
   },
   "outputs": [],
   "source": [
    "df = df.sample(frac=1)"
   ]
  },
  {
   "cell_type": "code",
   "execution_count": 6,
   "metadata": {
    "collapsed": false
   },
   "outputs": [],
   "source": [
    "df.reset_index(drop=True, inplace=True)"
   ]
  },
  {
   "cell_type": "markdown",
   "metadata": {},
   "source": [
    "## K-Means"
   ]
  },
  {
   "cell_type": "markdown",
   "metadata": {},
   "source": [
    "K-Means is used to establish the number of topics ‘k’ that will be passed to LDA.  The number will be determined by increasing k until the highest weighted words in each topic reach the desired level of homogeneity.  Purity will also be assessed based on the content of the documents that are closest to the cluster centers"
   ]
  },
  {
   "cell_type": "code",
   "execution_count": 7,
   "metadata": {
    "collapsed": false
   },
   "outputs": [],
   "source": [
    "# Sklearn KMeans centers the data but doing normalization explicitly here \n",
    "tf_idf_vectorizer = TfidfVectorizer(stop_words='english', min_df=2, max_df=.95)\n",
    "tf_idf = tf_idf_vectorizer.fit_transform(df['text'])"
   ]
  },
  {
   "cell_type": "code",
   "execution_count": 8,
   "metadata": {
    "collapsed": false
   },
   "outputs": [],
   "source": [
    "tf_idf = normalize(tf_idf)"
   ]
  },
  {
   "cell_type": "code",
   "execution_count": 9,
   "metadata": {
    "collapsed": true
   },
   "outputs": [],
   "source": [
    "def build_models(data, cluster_lst, n_iter, jobs=4):\n",
    "    model_dict = {}\n",
    "    for k in cluster_lst:\n",
    "        model_dict[k] = {}\n",
    "        model = KMeans(n_clusters=k, n_init=n_iter, n_jobs=jobs, random_state=123)\n",
    "        model_dict[k]['model'] = model\n",
    "        model_dict[k]['distances'] = model.fit_transform(tf_idf)\n",
    "    return model_dict"
   ]
  },
  {
   "cell_type": "code",
   "execution_count": 13,
   "metadata": {
    "collapsed": false
   },
   "outputs": [
    {
     "data": {
      "text/plain": [
       "[5, 25, 35, 45, 55]"
      ]
     },
     "execution_count": 13,
     "metadata": {},
     "output_type": "execute_result"
    }
   ],
   "source": [
    "k_lst = [5, 25, 35, 45, 55]\n",
    "k_lst"
   ]
  },
  {
   "cell_type": "code",
   "execution_count": 14,
   "metadata": {
    "collapsed": false
   },
   "outputs": [
    {
     "name": "stdout",
     "output_type": "stream",
     "text": [
      "82.0539999008\n"
     ]
    }
   ],
   "source": [
    "start = time()\n",
    "models_dict = build_models(tf_idf, k_lst, 15, 4)\n",
    "end = time()\n",
    "print end - start"
   ]
  },
  {
   "cell_type": "code",
   "execution_count": 15,
   "metadata": {
    "collapsed": false
   },
   "outputs": [],
   "source": [
    "h_lst = [abs(models_dict[k]['model'].score(tf_idf)) for k in k_lst]"
   ]
  },
  {
   "cell_type": "code",
   "execution_count": 16,
   "metadata": {
    "collapsed": true
   },
   "outputs": [],
   "source": [
    "def plot_k_vs_heterogeneity(k_values, heterogeneity_values):\n",
    "    plt.figure(figsize=(7,4))\n",
    "    plt.plot(k_values, heterogeneity_values, linewidth=4)\n",
    "    plt.xlabel('K')\n",
    "    plt.ylabel('Heterogeneity')\n",
    "    plt.title('K vs. Heterogeneity')\n",
    "    plt.rcParams.update({'font.size': 16})\n",
    "    plt.tight_layout()"
   ]
  },
  {
   "cell_type": "code",
   "execution_count": 17,
   "metadata": {
    "collapsed": false
   },
   "outputs": [
    {
     "data": {
      "image/png": "[encoded data removed]",
      "text/plain": [
       "<matplotlib.figure.Figure at 0xccadb70>"
      ]
     },
     "metadata": {},
     "output_type": "display_data"
    }
   ],
   "source": [
    "plot_k_vs_heterogeneity(k_lst, h_lst)"
   ]
  },
  {
   "cell_type": "code",
   "execution_count": 18,
   "metadata": {
    "collapsed": true
   },
   "outputs": [],
   "source": [
    "def plt_cluster_counts(k_val, models, ticks=True, logscale=False):\n",
    "    labels = models[k_val]['model'].labels_\n",
    "    g = sns.barplot(x=np.arange(k_val), y=np.bincount(labels))\n",
    "    if not ticks:\n",
    "        g.set(xticklabels=[])\n",
    "    if logscale:\n",
    "        g.figure.get_axes()[0].set_yscale('log')\n",
    "    else: plt.show()"
   ]
  },
  {
   "cell_type": "markdown",
   "metadata": {},
   "source": [
    "Most of the bookmarks are data science, pure math, or finance.  Three major cluster groups make sense in this context."
   ]
  },
  {
   "cell_type": "code",
   "execution_count": 19,
   "metadata": {
    "collapsed": false
   },
   "outputs": [
    {
     "data": {
      "image/png": "[encoded data removed]",
      "text/plain": [
       "<matplotlib.figure.Figure at 0xab91710>"
      ]
     },
     "metadata": {},
     "output_type": "display_data"
    }
   ],
   "source": [
    "plt_cluster_counts(5, models_dict)"
   ]
  },
  {
   "cell_type": "code",
   "execution_count": 20,
   "metadata": {
    "collapsed": false
   },
   "outputs": [
    {
     "data": {
      "image/png": "[encoded data removed]",
      "text/plain": [
       "<matplotlib.figure.Figure at 0xab9f668>"
      ]
     },
     "metadata": {},
     "output_type": "display_data"
    }
   ],
   "source": [
    "plt_cluster_counts(25, models_dict)"
   ]
  },
  {
   "cell_type": "code",
   "execution_count": 28,
   "metadata": {
    "collapsed": false
   },
   "outputs": [
    {
     "data": {
      "image/png": "[encoded data removed]",
      "text/plain": [
       "<matplotlib.figure.Figure at 0x10ba5cf8>"
      ]
     },
     "metadata": {},
     "output_type": "display_data"
    }
   ],
   "source": [
    "plt_cluster_counts(35, models_dict, ticks=False)"
   ]
  },
  {
   "cell_type": "markdown",
   "metadata": {},
   "source": [
    "### Identifying topic themes by top weighted words and doc distance to centroid"
   ]
  },
  {
   "cell_type": "code",
   "execution_count": 22,
   "metadata": {
    "collapsed": false
   },
   "outputs": [],
   "source": [
    "indx_to_word = {v:k for k,v in tf_idf_vectorizer.vocabulary_.iteritems()}"
   ]
  },
  {
   "cell_type": "code",
   "execution_count": 23,
   "metadata": {
    "collapsed": true
   },
   "outputs": [],
   "source": [
    "import textwrap"
   ]
  },
  {
   "cell_type": "code",
   "execution_count": 34,
   "metadata": {
    "collapsed": false
   },
   "outputs": [],
   "source": [
    "def print_cluster_words(df, models, word_map, k, n_words, n_docs=5, display_content=False):\n",
    "    #should check if k is valid\n",
    "    centroids = models[k]['model'].cluster_centers_\n",
    "    for c in xrange(len(centroids)):\n",
    "        print('Cluster {0:d}    '.format(c)),\n",
    "        indx = centroids[c].argsort()[::-1]\n",
    "        for i in xrange(n_words):\n",
    "            print('{0:s}:{1:.3f}'.format(word_map[indx[i]].encode('utf-8'), centroids[c, indx[i]])),\n",
    "        print('')\n",
    "        \n",
    "        if display_content:\n",
    "            c_filter = models_dict[k]['model'].labels_ == c\n",
    "            min_cluster_idx = models_dict[k]['distances'][c_filter][:,c].argsort()\n",
    "            cluster_df = df['text'][c_filter]\n",
    "            cluster_df.reset_index(drop=True, inplace=True)\n",
    "            nearest_txt_df = cluster_df.iloc[min_cluster_idx]\n",
    "       \n",
    "            if len(cluster_df) >= n_docs:\n",
    "                for i in xrange(n_docs):\n",
    "                    text = ' '.join(nearest_txt_df.iloc[i].split(None, 25)[0:25]).encode('utf-8')\n",
    "                    print('\\n* {0:s}'.format(textwrap.fill(text, 90)))\n",
    "                    #print('\\n* {0:s}\\n  {1:s}'.format(\n",
    "                    #        text[:90], text[90:180] if len(text) > 90 else ''))\n",
    "            else: print(\"not enough docs in group\")\n",
    "        print('==========================================================')"
   ]
  },
  {
   "cell_type": "code",
   "execution_count": 35,
   "metadata": {
    "collapsed": false
   },
   "outputs": [
    {
     "name": "stdout",
     "output_type": "stream",
     "text": [
      "Cluster 0     data:0.162 wsj:0.150 podcast:0.131 leanpub:0.104 skeptic:0.082 journal:0.078 \n",
      "not enough docs in group\n",
      "==========================================================\n",
      "Cluster 1     trading:0.095 market:0.062 economic:0.041 currency:0.040 bloomberg:0.040 data:0.040 \n",
      "\n",
      "* skip to main | skip to sidebar # Quantitative Trading Quantitative investment and trading\n",
      "ideas, research, and analysis. ## Friday, March 03, 2017 ### More\n",
      "\n",
      "* * Topics What's New SEC Denies Winklevoss Bid to Launch Bitcoin ETFs in Surprise Upset\n",
      "Searching for Value in a Hot Sector Topics * News\n",
      "\n",
      "* * Topics What's New SEC Denies Winklevoss Bid to Launch Bitcoin ETFs in Surprise Upset\n",
      "Searching for Value in a Hot Sector Topics * News\n",
      "\n",
      "* New Visitor? Start Here * Start Here * About * Books * Articles * Reading List * QSTrader\n",
      "Toggle navigation * Start Here * About\n",
      "\n",
      "* Skip to main content Show navigation FXStreet * Home * Rates &amp; charts * News *\n",
      "Analysis * Economic Calendar * Live Video * Education\n",
      "\n",
      "* Invest in Monzo Get early access 8 Jan 2016 Banking and Regulation # How Does the\n",
      "Wholesale Foreign Exchange Market Work? In December we gave\n",
      "\n",
      "* * Home * Archive * Mobile * RSS # Jesse Spaulding Text November 06, 2012 0 comments 65\n",
      "notes ### How I made $500k with\n",
      "\n",
      "* * Private * Institutional Saxo Academy * Tradingfloor Log in Sign up now Topics * HOT\n",
      "TOPICS * Europe Divided * Trading Trump * Outrageous\n",
      "==========================================================\n",
      "Cluster 2     network:0.099 neural:0.091 layer:0.086 model:0.086 image:0.075 networks:0.069 \n",
      "\n",
      "* ACCELERATED COMPUTING * Cuda zone menu * Downloads * Training * Ecosystem * Forums *\n",
      "Search CUDA Zone * Register Now * Login # ###\n",
      "\n",
      "* # The Keras Blog Keras is a Deep Learning library for Python, that is simple, modular, and\n",
      "extensible. * Archives * Github * Documentation *\n",
      "\n",
      "* # å¤§ãã­ ml ã» design * archiveã * * * * * # Neural Network Evolution\n",
      "Playground with Backprop NEAT May 7, 2016 ` GitHub\n",
      "\n",
      "* Attend a 3-Day Introductory Deep Learning Workshop View Upcoming Workshops » * Quickstart\n",
      "* Documentation * GPUs * Spark * Word2Vec * About * FAQ\n",
      "\n",
      "* Toggle navigation colah's blog * Blog * About * Contact # Neural Networks, Manifolds, and\n",
      "Topology Posted on April 6, 2014 topology, neural networks, deep\n",
      "\n",
      "* # Revolutions ## Daily news about using open source R for big data analysis, predictive\n",
      "modeling, data science, and visualization since 2008 « Edward Tufte\n",
      "\n",
      "* Skip to content Features Explore Pricing This repository Sign in or Sign up * Watch 200 *\n",
      "Star 3,680 * Fork 343 # cazala/synaptic Code\n",
      "\n",
      "* # J Alammar Explorations in touchable pixels and intelligent androids Blog About # A\n",
      "Visual and Interactive Guide to the Basics of Neural Networks ##\n",
      "==========================================================\n",
      "Cluster 3     tensorflow:0.154 learning:0.115 deep:0.078 python:0.068 machine:0.055 tf:0.041 \n",
      "\n",
      "* Skip to content Features Explore Pricing This repository Sign in or Sign up * Watch 531 *\n",
      "Star 6,619 * Fork 915 # jtoy/awesome-tensorflow Code\n",
      "\n",
      "* Skip to content Features Explore Pricing This repository Sign in or Sign up * Watch 531 *\n",
      "Star 6,619 * Fork 915 # jtoy/awesome-tensorflow Code\n",
      "\n",
      "* ## Hacker Lists Menu * Hacking * Programming Home Programming The Ultimate List of\n",
      "TensorFlow Resources: Books, Tutorials, Libraries and More # The Ultimate List\n",
      "\n",
      "* Skip to content Features Explore Pricing This repository Sign in or Sign up * Watch 426 *\n",
      "Star 6,270 * Fork 917 # hangtwenty/dive-into-machine-learning Code\n",
      "\n",
      "* TensorFlow * Install * Develop * API r1.0 * Deploy * Extend * Resources * Versions GitHub\n",
      "An open-source software library for Machine Intelligence Get\n",
      "\n",
      "* Skip to content Features Explore Pricing This repository Sign in or Sign up * Watch 692 *\n",
      "Star 9,489 * Fork 2,692 # aymericdamien/TensorFlow-Examples Code\n",
      "\n",
      "* Skip to content # WildML ## AI, Deep Learning, NLP Menu * Home * Deep Learning Newsletter\n",
      "* Deep Learning Glossary * Contact * About\n",
      "\n",
      "* Skip to content Features Explore Pricing This repository Sign in or Sign up * Watch 509 *\n",
      "Star 5,677 * Fork 1,735 # rasbt/python-machine-learning-book Code\n",
      "==========================================================\n",
      "Cluster 4     css:0.094 nav:0.079 url:0.072 js:0.067 text:0.061 ajax:0.049 \n",
      "\n",
      "* <!-- #navbar #nav-shop .nav-a:hover { color: #ff9900; text-decoration: underline; }\n",
      "#navbar #nav-search .nav-search-facade, #navbar #nav-tools .nav- icon, #navbar #nav-shop\n",
      ".nav-icon, #navbar #nav-subnav .nav-hasArrow .nav- arrow\n",
      "\n",
      "* <!-- #navbar #nav-shop .nav-a:hover { color: #ff9900; text-decoration: underline; }\n",
      "#navbar #nav-search .nav-search-facade, #navbar #nav-tools .nav- icon, #navbar #nav-shop\n",
      ".nav-icon, #navbar #nav-subnav .nav-hasArrow .nav- arrow\n",
      "\n",
      "* <!-- #navbar #nav-shop .nav-a:hover { color: #ff9900; text-decoration: underline; }\n",
      "#navbar #nav-search .nav-search-facade, #navbar #nav-tools .nav- icon, #navbar #nav-shop\n",
      ".nav-icon, #navbar #nav-subnav .nav-hasArrow .nav- arrow\n",
      "\n",
      "* <!-- #navbar #nav-shop .nav-a:hover { color: #ff9900; text-decoration: underline; }\n",
      "#navbar #nav-search .nav-search-facade, #navbar #nav-tools .nav- icon, #navbar #nav-shop\n",
      ".nav-icon, #navbar #nav-subnav .nav-hasArrow .nav- arrow\n",
      "\n",
      "* * Home * News October 23, 2016 - New visualization: Date relative mode * Compare browsers\n",
      "* Import stats * Index * About Can I\n",
      "\n",
      "* Skip Navigation # User Agent Man ## Discoveries of a Client Side Web Developer * Home *\n",
      "About * Current Projects * Development Tools *\n",
      "\n",
      "* Skip to content Features Explore Pricing This repository Sign in or Sign up * Watch 75 *\n",
      "Star 2,360 * Fork 519 # madrobby/scriptaculous Code\n",
      "\n",
      "* * Google Search * Webmasters * AJAX Crawling (Deprecated) list All Products Sign in * Home\n",
      "* Guides * Support * Home * Guides *\n",
      "==========================================================\n",
      "Cluster 5     ago:0.336 days:0.332 like:0.049 just:0.045 https:0.043 com:0.041 \n",
      "\n",
      "* | | Hacker News new | comments | show | ask | jobs | submit | login ---|---|--- | | | Some\n",
      "Reflections on Being\n",
      "\n",
      "* | | Hacker News new | comments | show | ask | jobs | submit | login ---|---|--- | | | Show\n",
      "HN: Magnetissimo –\n",
      "\n",
      "* | | Hacker News new | comments | show | ask | jobs | submit | login ---|---|--- | | | Ask\n",
      "HN: Is there\n",
      "\n",
      "* | | Hacker News new | comments | show | ask | jobs | submit | login ---|---|--- | | |\n",
      "Announcing SyntaxNet: The World’s\n",
      "\n",
      "* | | Hacker News new | comments | show | ask | jobs | submit | login ---|---|--- | | | Data\n",
      "Science: CSCI E-109\n",
      "\n",
      "* | | Hacker News new | comments | show | ask | jobs | submit | login ---|---|--- | | | All\n",
      "the best advice\n",
      "\n",
      "* | | Hacker News new | comments | show | ask | jobs | submit | login ---|---|--- | | |\n",
      "Numerai – A hedge\n",
      "\n",
      "* | | Hacker News new | comments | show | ask | jobs | submit | login ---|---|--- | | |\n",
      "Running I3 Window Manager\n",
      "==========================================================\n",
      "Cluster 6     duration:0.398 views:0.328 loading:0.245 video:0.105 sign:0.099 play:0.099 \n",
      "\n",
      "* Skip navigation Sign in Search Loading... Close Yeah, keep it Undo Close # This video is\n",
      "unavailable. ### Watch Queue ### Queue Watch QueueQueue *\n",
      "\n",
      "* Skip navigation Sign in Search Loading... Close Yeah, keep it Undo Close # This video is\n",
      "unavailable. ### Watch Queue ### Queue Watch QueueQueue *\n",
      "\n",
      "* Skip navigation Sign in Search Loading... Close Yeah, keep it Undo Close # This video is\n",
      "unavailable. ### Watch Queue ### Queue Watch QueueQueue *\n",
      "\n",
      "* Skip navigation Sign in Search Loading... Close Yeah, keep it Undo Close # This video is\n",
      "unavailable. ### Watch Queue ### Queue Watch QueueQueue *\n",
      "\n",
      "* Skip navigation Sign in Search Loading... Close Yeah, keep it Undo Close # This video is\n",
      "unavailable. ### Watch Queue ### Queue Watch QueueQueue *\n",
      "\n",
      "* Skip navigation Sign in Search Loading... Close Yeah, keep it Undo Close # This video is\n",
      "unavailable. ### Watch Queue ### Queue Watch QueueQueue *\n",
      "\n",
      "* Skip navigation Sign in Search Loading... Close Yeah, keep it Undo Close # This video is\n",
      "unavailable. ### Watch Queue ### Queue Watch QueueQueue *\n",
      "\n",
      "* Skip navigation Sign in Search Loading... Close Yeah, keep it Undo Close # This video is\n",
      "unavailable. ### Watch Queue ### Queue Watch QueueQueue *\n",
      "==========================================================\n",
      "Cluster 7     mathematica:0.160 stack:0.145 vote:0.101 overflow:0.082 answer:0.081 answers:0.080 \n",
      "\n",
      "* Stack Overflow 1. Questions 2. Jobs 3. Documentation beta 4. Tags 5. Users ### current\n",
      "community * help chat Stack Overflow * Meta Stack Overflow\n",
      "\n",
      "* ### current community * chat Mathematica * Mathematica Meta ### your communities Sign up\n",
      "or log in to customize your list. ### more stack exchange\n",
      "\n",
      "* ### current community * chat Cross Validated * Cross Validated Meta ### your communities\n",
      "Sign up or log in to customize your list. ### more\n",
      "\n",
      "* ### current community * chat Mathematica * Mathematica Meta ### your communities Sign up\n",
      "or log in to customize your list. ### more stack exchange\n",
      "\n",
      "* Stack Overflow 1. Questions 2. Jobs 3. Documentation beta 4. Tags 5. Users ### current\n",
      "community * help chat Stack Overflow * Meta Stack Overflow\n",
      "\n",
      "* Stack Overflow 1. Questions 2. Jobs 3. Documentation beta 4. Tags 5. Users ### current\n",
      "community * help chat Stack Overflow * Meta Stack Overflow\n",
      "\n",
      "* Stack Overflow 1. Questions 2. Jobs 3. Documentation beta 4. Tags 5. Users ### current\n",
      "community * help chat Stack Overflow * Meta Stack Overflow\n",
      "\n",
      "* ### current community * chat Mathematica * Mathematica Meta ### your communities Sign up\n",
      "or log in to customize your list. ### more stack exchange\n",
      "==========================================================\n",
      "Cluster 8     2013:0.071 2014:0.070 reply:0.068 2015:0.067 december:0.059 february:0.058 \n",
      "\n",
      "* # Programming Praxis A collection of etudes, updated weekly, for the education and\n",
      "enjoyment of the savvy programmer * Home * About * HOWTO: Posting\n",
      "\n",
      "* MISH'S Global Economic Trend Analysis | ---|--- * Home * Contact * Advertisers * Sitka\n",
      "Pacific ## Recent Posts ## Featured Links * GoldMoney: The\n",
      "\n",
      "* Skip to content * Home * ARM Cortex Tutorials * AVR Tutorials * MSP430 Tutorials * Contact\n",
      "* Forum * Activity * PCB Fab No\n",
      "\n",
      "* The Scrapinghub Blog # The Scrapinghub Blog ## Turn Web Content Into Useful Data\n",
      "Announcing Portia, the Open Source Visual Web Scraper! # Announcing Portia,\n",
      "\n",
      "* Skip to main content ### Menu Skip to content * Downloads * Training * Support Portal *\n",
      "Partners * Developers * Community # ### \n",
      "\n",
      "* Homotopy Type Theory Skip to content * Home * Blog * Code * Events * Links * References *\n",
      "Wiki * The Book # The\n",
      "\n",
      "* James D. McCaffrey Software Research, Development, Testing, and Education Skip to content\n",
      "* Home * About Me &lt;- My Top Ten Favorite New Wave Songs\n",
      "\n",
      "* No Free Hunch Navigation * kaggle.com * kaggle.com Learning from the best 11 # Learning\n",
      "from the best David Kofoed Wind|08.01.2014 Guest contributor David Kofoed\n",
      "==========================================================\n",
      "Cluster 9     udacity:0.122 university:0.098 course:0.078 courses:0.067 nanodegree:0.065 online:0.060 \n",
      "\n",
      "* * Explore * Nanodegree * Catalog * For Business * Blog * My Classroom * Sign In * Get\n",
      "Started Join our list for the\n",
      "\n",
      "* * Explore * Nanodegree * Catalog * For Business * Blog * My Classroom * Sign In * Get\n",
      "Started Join our list for the\n",
      "\n",
      "* * Explore * Nanodegree * Catalog * For Business * Blog * My Classroom * Sign In * Get\n",
      "Started Join our list for the\n",
      "\n",
      "* ## Pages * Home * Online Learning * About * Apps ### Online Learning: A Bachelor's Level\n",
      "Computer Science Program Curriculum (Updated) Introduction [Update: See\n",
      "\n",
      "* Toggle navigationNavigation openNavigation closed Institutions Catalog * Browse * Search *\n",
      "Institutions * For Enterprise * Log In * Sign Up # Take the world's\n",
      "\n",
      "* Skip to content Features Explore Pricing This repository Sign in or Sign up * Watch 459 *\n",
      "Star 9,122 * Fork 835 # Developer-Y/cs-video-courses Code\n",
      "\n",
      "* Academic Earth Menu * Online Degrees * Courses * Accounting * Art History * Biology *\n",
      "Business * Chemistry * Computer Science * Economics *\n",
      "\n",
      "* interviewing.io blog better interviewing through data * interviewing.io * Blog Home *\n",
      "Posts * About # Lessons from 3,000 technical interviews… or how what you\n",
      "==========================================================\n",
      "Cluster 10     chapter:0.136 book:0.107 bayesian:0.097 data:0.054 inference:0.052 models:0.051 \n",
      "\n",
      "* View on GitHub # Probabilistic Programming & Bayesian Methods for Hackers Download this\n",
      "project as a .zip file Download this project as a tar.gz file\n",
      "\n",
      "* Skip to content Features Explore Pricing This repository Sign in or Sign up * Watch 1,060\n",
      "* Star 11,534 * Fork 3,372 # CamDavidsonPilon/Probabilistic-Programming-and-Bayesian-\n",
      "Methods-for-Hackers Code\n",
      "\n",
      "* # THE NATURE OF CODE ## by Daniel Shiffman Buy this book in print Buy this book as PDF *\n",
      "Welcome * Acknowledgments * Dedication\n",
      "\n",
      "* # A Programmer's Guide to Data Mining # The Ancient Art of the Numerati Chapters 1:\n",
      "Introduction 2: Recommendation systems 3: Item-based filtering 4: Classification\n",
      "\n",
      "* Elementary Calculus # Elementary Calculus: An Infinitesimal Approach ## On-line Edition.\n",
      "Copyright © 2000 by H. Jerome Keisler, revised March 2017. ### This is a\n",
      "\n",
      "* # The Open Source Data Science Masters ## Curriculum for Data Science View on GitHub\n",
      "Download .zip Download .tar.gz created &amp; maintained by @clarecorthell, founding\n",
      "\n",
      "* # LearnDataSci ## #### * Home * Courses * Free Books # 100+ Free Data Science Books for\n",
      "2017 # 100+ Free Data Science Books\n",
      "\n",
      "* * Home * About * Contact * Forum ### immersivemath This will be replaced with browser\n",
      "width stuff! # immersive linear algebra by J. StrÃ¶m,\n",
      "==========================================================\n",
      "Cluster 11     gre:0.272 gmat:0.186 test:0.097 course:0.091 lessons:0.080 prep:0.076 \n",
      "\n",
      "* ﻿ * Courses: * GRE * GMAT * ACT * Sign in * GRE * GMAT * ACT * Register * GRE * GMAT *\n",
      "\n",
      "* Toggle navigation * Support * Contact Us * Student Center Login * GMAT * GRE * LSAT * ACT\n",
      "* gmat * prep options *\n",
      "\n",
      "* | | | ---|---|---|--- How Guru Scored 336 in GRE | 20 Free GRE Full Length Tests | Free\n",
      "GRE Practice Tests | GRE sample\n",
      "\n",
      "* skip to contents skip to navigation skip to search skip to footer angle-up angle-right\n",
      "angle-down angle-left close user menu open menu closed search globe bars\n",
      "\n",
      "* Forgot password? Register * Home * * Main Forum * Active Discussions * General GMAT\n",
      "Questions * GMAT Quantitative Section * GMAT Verbal Section *\n",
      "\n",
      "* GMAT Club * * HOME * FORUM * GMAT * TESTS * DEALS * REVIEWS * ADMISSIONS * SCHOOLS * CHAT\n",
      "* BLOG * GMAT\n",
      "\n",
      "* Carnegie Mellon University Open Learning Initiative Transforming higher education through\n",
      "the science of learning. * News, Events + Media * Publications * FAQs * Contact\n",
      "\n",
      "* The Infinite Actuary Sign In * Products * ASA * P * FM * MLC * MFE * C * ACAS * P * FM\n",
      "==========================================================\n",
      "Cluster 12     latinoamã:0.225 espaã:0.221 rica:0.205 ol:0.189 ðºð:0.168 flac:0.148 \n",
      "not enough docs in group\n",
      "==========================================================\n",
      "Cluster 13     characters:0.264 filesharefreak:0.233 affiliates:0.177 sure:0.174 image:0.173 accepting:0.166 \n",
      "not enough docs in group\n",
      "==========================================================\n",
      "Cluster 14     ashley:0.110 madison:0.108 frye:0.104 varvatos:0.102 men:0.095 sneaker:0.080 \n",
      "\n",
      "* * * gizmodo * Deadspin * Gizmodo * Jalopnik * Jezebel * Kotaku * Lifehacker * The Root *\n",
      "Video * Sploid * Paleofuture *\n",
      "\n",
      "* * * gizmodo * Deadspin * Gizmodo * Jalopnik * Jezebel * Kotaku * Lifehacker * The Root *\n",
      "Video * Sploid * Paleofuture *\n",
      "\n",
      "* Search Images Maps Play YouTube News Gmail Drive More » Web History | Settings | Sign in\n",
      "| | | ---|---|---|--- # | | |\n",
      "\n",
      "* * * * # Thoughts, stories and ideas. * Home - Blog * BinaryEdge Monday ### 31 August 2015\n",
      "## Ashley Madison - A final\n",
      "\n",
      "* Search Images Maps Play YouTube News Gmail Drive More » Web History | Settings | Sign in\n",
      "| | | ---|---|---|--- # | | |\n",
      "\n",
      "* Search Images Maps Play YouTube News Gmail Drive More » Web History | Settings | Sign in\n",
      "| | | ---|---|---|--- # | | |\n",
      "\n",
      "* Search Images Maps Play YouTube News Gmail Drive More » Web History | Settings | Sign in\n",
      "| | | ---|---|---|--- # | | |\n",
      "\n",
      "* Search Images Maps Play YouTube News Gmail Drive More » Web History | Settings | Sign in\n",
      "| | | ---|---|---|--- # | | |\n",
      "==========================================================\n",
      "Cluster 15     theorem:0.102 redirecting:0.090 statistics:0.072 distributions:0.044 books:0.038 stat:0.035 \n",
      "\n",
      "* My Courses 1. Products 2. Contribute 3. License 4. About 5. Log In OpenIntro Statistics\n",
      "Intro Stat with Randomization and SimulationAdvanced High School Statistics Click\n",
      "\n",
      "* # Adventures in Analysis A place for proofs, examples, and topics I find interesting. Skip\n",
      "to content * Home * About ## Mollification and the\n",
      "\n",
      "* Seeing Theory * Basic Probability * Compound Probability * Distributions * Statistical\n",
      "Inference * Regression Seeing Theory * * Units * About # Seeing Theory\n",
      "\n",
      "* | Theorem of the Day | | ---|---|---|--- | Home Resources Centre Gallery Shop Visitors'\n",
      "Book Acknowledgements | Other listings --- Alphabetical Theorem List Subject\n",
      "\n",
      "* Online Statistics Education: An Interactive Multimedia Course of Study Developed by Rice\n",
      "University (Lead Developer), University of Houston Clear Lake, and Tufts University\n",
      "OnlineStatBook Project\n",
      "\n",
      "* My Courses 1. Products 2. Contribute 3. License 4. About 5. Log In OpenIntro Statistics\n",
      "Intro Stat with Randomization and SimulationAdvanced High School Statistics Click\n",
      "\n",
      "* * Main Data Science 8 Site * Computational and Inferential Thinking * * Introduction *\n",
      "Data Science * Introduction * Computational Tools * Statistical Techniques\n",
      "\n",
      "* * Skip to navigation (Press Enter) * Skip to main content (Press Enter) * Home * Threads *\n",
      "Index * About * # Math Insight\n",
      "==========================================================\n",
      "Cluster 16     wolfram:0.663 mathematica:0.203 alpha:0.134 data:0.101 amp:0.067 language:0.058 \n",
      "\n",
      "* * WolframAlpha.com * WolframCloud.com * å ¨é¨ç½ç«ä¸å ¬å\n",
      "±èµæº... * äº§åä¸æå¡ * * Mathematica * Mathematica Online *\n",
      "Development Platform * Programming Lab * Data\n",
      "\n",
      "* * WolframAlpha.com * WolframCloud.com * All Sites &amp; Public Resources... # Products\n",
      "&amp; Services * Mathematica * Mathematica Online * Development Platform * Programming Lab\n",
      "\n",
      "* * WolframAlpha.com * WolframCloud.com * All Sites &amp; Public Resources... * Products\n",
      "&amp; Services * * Mathematica * Mathematica Online * Development Platform * Programming\n",
      "\n",
      "* Uh oh! Wolfram|Alpha doesnât run without JavaScript! Please enable JavaScript. If you\n",
      "donât know how, you can find instructions here. Once youâve done that, refresh\n",
      "\n",
      "* * WolframAlpha.com * WolframCloud.com * All Sites &amp; Public Resources... * Products\n",
      "&amp; Services * * Mathematica * Mathematica Online * Development Platform * Programming\n",
      "\n",
      "* * WolframAlpha.com * WolframCloud.com * All Sites &amp; Public Resources... * Products\n",
      "&amp; Services * * Mathematica * Mathematica Online * Development Platform * Programming\n",
      "\n",
      "* * WolframAlpha.com * WolframCloud.com * All Sites &amp; Public Resources... * Products\n",
      "&amp; Services * * Mathematica * Mathematica Online * Development Platform * Programming\n",
      "\n",
      "* Integrator Functions MathWorld Wolfram Science More » * Wolfram Research » * News and\n",
      "Events » * Documentation Center » * Numb3rs » * Demonstrations\n",
      "==========================================================\n",
      "Cluster 17     lecture:0.224 learning:0.119 neural:0.101 networks:0.098 deep:0.091 slides:0.091 \n",
      "\n",
      "* # CS224d: Deep Learning for Natural Language Processing ## Schedule and Syllabus Unless\n",
      "otherwise specified the course lectures and meeting times are: Tuesday, Thursday 3:00-4:20\n",
      "\n",
      "* Skip to content Features Explore Pricing This repository Sign in or Sign up * Watch 556 *\n",
      "Star 6,459 * Fork 724 # oxford-cs-deepnlp-2017/lectures Code\n",
      "\n",
      "* Skip to main content University of Oxford Department of Computer Science Search for Search\n",
      "Toggle Main Menu * Home * Admissions * Research * News\n",
      "\n",
      "* # CS 20SI: Tensorflow for Deep Learning Research ## Schedule and Syllabus Unless otherwise\n",
      "specified the course lectures and meeting times are: Wednesday, Friday 3:30-4:20\n",
      "\n",
      "* Subscribe to the OCW Newsletter | ---|--- Help| Contact Us * * Find Courses Find courses\n",
      "by: * Topic * MIT Course Number * Department\n",
      "\n",
      "* Subscribe to the OCW Newsletter | ---|--- Help| Contact Us * * Find Courses Find courses\n",
      "by: * Topic * MIT Course Number * Department\n",
      "\n",
      "* A Guide to Deep Learning by YerevaNN # A Guide to Deep Learning by Deep learning is a\n",
      "fast-changing field at the intersection of computer\n",
      "\n",
      "* # CS 294: Deep Reinforcement Learning, Spring 2017 Instructors: Sergey Levine, John\n",
      "Schulman, Chelsea Finn --- Lectures: Mondays and Wednesdays, 9:00am-10:30am in 306 Soda\n",
      "Hall.\n",
      "==========================================================\n",
      "Cluster 18     forex:0.621 trading:0.251 currency:0.127 nfa:0.108 trade:0.076 market:0.068 \n",
      "\n",
      "* * Learn How to Trade Forex * Sign In * Join Search for: Skip to content * Home * School *\n",
      "Blogs * Forums *\n",
      "\n",
      "* * FXIMPULSE * FOREX TRADING PLAN * FOREX TRADING SYSTEM * TECHNICAL ANALYSIS * FOREX\n",
      "TRENDS * SUPPORT AND RESISTNACE * JAPANESE CANDLESTICKS * TRENDLINES\n",
      "\n",
      "* * Learn How to Trade Forex * Sign In * Join Search for: Skip to content * Home * School *\n",
      "Blogs * Forums *\n",
      "\n",
      "* * Topics What's New SEC Denies Winklevoss Bid to Launch Bitcoin ETFs in Surprise Upset\n",
      "Searching for Value in a Hot Sector Topics * News\n",
      "\n",
      "* Search * Join * Sign In * About Us * Contact Us * Expert Authors * Ask Chris Knight Home\n",
      "Home » Finance » Currency\n",
      "\n",
      "* | # Forex Market Hours ### Forex trading hours: London, New York, Tokyo, Sydney sessions.\n",
      "Best trading time in the Forex Market | ---|---|--- ---\n",
      "\n",
      "* FOREXFRAUD.COM Search Menu * Forexfraud Home * Forex Broker Reviews * Forex Brokers to\n",
      "Avoid * Binary Options Reviews * Forex Software Reviews * Forex\n",
      "\n",
      "* Learn how to trade forex. Sign In | Join * Home * School * Blogs * Forums * Tools *\n",
      "ForExPedia * Rates * Forex\n",
      "==========================================================\n",
      "Cluster 19     amp:0.078 review:0.037 soa:0.035 memory:0.027 data:0.026 reviews:0.026 \n",
      "\n",
      "* Home Site Me * * * New: * mail * rss * * * support on PATREON # Spaced repetition Please\n",
      "enable JavaScript for math\n",
      "\n",
      "* Homepage Sign in / Sign up Gabriel WeinbergBlockedUnblockFollowFollowing CEO &amp;\n",
      "Founder, DuckDuckGo. Co-author, Traction. I want to publish zines and rage against\n",
      "machines. Jul 5,\n",
      "\n",
      "* Homepage Sign in / Sign up Gabriel WeinbergBlockedUnblockFollowFollowing CEO &amp;\n",
      "Founder, DuckDuckGo. Co-author, Traction. I want to publish zines and rage against\n",
      "machines. Jul 5,\n",
      "\n",
      "* Skip to main content ## FiveThirtyEight Artboard 95 Search Search Menu Science Isn't\n",
      "Broken Intro Part 1: Hack Part 2: Retract Part 3: Reflect Share\n",
      "\n",
      "* Announcement: SOA releases January 2017 Exam P passing candidate numbers. Toggle\n",
      "navigation Edition * Member * Candidate &amp; Student * | * Asia * Canada\n",
      "\n",
      "* * * Deals * Frontpage Deals Frontpage Slickdeals The hottest deals voted on by our\n",
      "community. Selected and verified by our team of deal editors.\n",
      "\n",
      "* * * Calendar * Actuarial Directory * Search by: Last Name First Name Company Name City\n",
      "Advanced Search Update Profile * My SOA * Username\n",
      "\n",
      "* Learn for free about math, art, computer programming, economics, physics, chemistry,\n",
      "biology, medicine, finance, history, and more. Khan Academy is a nonprofit with the\n",
      "mission\n",
      "==========================================================\n",
      "Cluster 20     data:0.028 time:0.018 learning:0.017 like:0.017 video:0.016 use:0.015 \n",
      "\n",
      "* \n",
      "\n",
      "* \n",
      "\n",
      "* \n",
      "\n",
      "* \n",
      "\n",
      "* \n",
      "\n",
      "* \n",
      "\n",
      "* \n",
      "\n",
      "* \n",
      "==========================================================\n",
      "Cluster 21     theory:0.208 category:0.158 type:0.098 mathématiques:0.096 programmation:0.093 foundations:0.084 \n",
      "\n",
      "* Skip navigation Sign in Search Loading... Close Yeah, keep it Undo Close # This video is\n",
      "unavailable. ### Watch Queue ### Queue Watch QueueQueue *\n",
      "\n",
      "* Skip to content Follow: RSS Monadically Speaking: Adventures in Programming Language\n",
      "Theory Benjamin's Adventures in Programming Language Theory Wonderland * Home * About *\n",
      "Announcements\n",
      "\n",
      "* Skip navigation Sign in Search Loading... Close Yeah, keep it Undo Close # This video is\n",
      "unavailable. ### Watch Queue ### Queue Watch QueueQueue *\n",
      "\n",
      "* Skip navigation Sign in Search Loading... Close Yeah, keep it Undo Close # This video is\n",
      "unavailable. ### Watch Queue ### Queue Watch QueueQueue *\n",
      "\n",
      "* # nLab relation between type theory and category theory Skip the Navigation Links | Home\n",
      "Page | All Pages | Latest Revisions | Authors |\n",
      "\n",
      "* * Home * About # Bartosz Milewski's Programming Cafe Concurrency, C++, Haskell, Category\n",
      "Theory October 28, 2014 ## Category Theory for Programmers: The Preface Posted\n",
      "\n",
      "* BT * About InfoQ * Our Audience * Contribute * About C4Media * Exclusive updates on: * * *\n",
      "* * Facilitating the spread of\n",
      "\n",
      "* Main Page Game Theory I: An Introduction Game Theory II: Advanced Applications Game Theory\n",
      "Online Matthew O. Jackson Stanford University Kevin Leyton-Brown University of British\n",
      "==========================================================\n",
      "Cluster 22     pdf:0.271 arxiv:0.133 cs:0.112 neural:0.061 networks:0.054 gmt:0.046 \n",
      "\n",
      "* Skip to content Features Explore Pricing This repository Sign in or Sign up * Watch 990 *\n",
      "Star 10,166 * Fork 1,468 # songrotek/Deep-Learning-Papers-Reading-Roadmap Code\n",
      "\n",
      "* * Overview * Course Information * Requirements * Syllabus * Schedule * Resources ## Topics\n",
      "in Computer Vision (CSC2523): # Deep Learning in Computer Vision\n",
      "\n",
      "* # math.caltech.edu - /~nets/ * * * [To Parent Directory] 5/7/2013 8:54 AM 195153\n",
      "10.1.1.83.1483.pdf 9/18/2016 8:36 AM 340084 16schedule.pdf 9/25/2016 8:56 AM 32000\n",
      "2016ps1.pdf\n",
      "\n",
      "* | Looking for PDF Programming API? PDF SDK | PDF-to-Word API | PDF-to-HTML API | PDF-\n",
      "Conversion API for LINUX --- | FREE! PDF to Word\n",
      "\n",
      "* Skip to content Features Explore Pricing This repository Sign in or Sign up * Watch 5,841\n",
      "* Star 79,257 * Fork 19,829 # vhf/free-programming-books Code\n",
      "\n",
      "* Cornell University Library We gratefully acknowledge support from the Simons Foundation\n",
      "and member institutions # arXiv.org &gt; cs &gt; arXiv:1603.01417 All papers Titles\n",
      "Authors Abstracts\n",
      "\n",
      "* Cornell University Library We gratefully acknowledge support from the Simons Foundation\n",
      "and member institutions # arXiv.org &gt; cs &gt; arXiv:1603.05279 All papers Titles\n",
      "Authors Abstracts\n",
      "\n",
      "* Cornell University Library We gratefully acknowledge support from the Simons Foundation\n",
      "and member institutions # arXiv.org &gt; cs &gt; arXiv:1410.5401 All papers Titles Authors\n",
      "Abstracts\n",
      "==========================================================\n",
      "Cluster 23     comments:0.161 hide:0.124 ago:0.110 hours:0.102 imgur:0.090 share:0.075 \n",
      "\n",
      "* | | Hacker News new | comments | show | ask | jobs | submit | login ---|---|--- | 1. | |\n",
      "SEC Rejects Rule\n",
      "\n",
      "* | | Hacker News new | comments | show | ask | jobs | submit | login ---|---|--- | 1. | |\n",
      "SEC Rejects Rule\n",
      "\n",
      "* jump to content my subreddits announcementsArtAskRedditaskscienceawwblogbookscreepydataisb\n",
      "eautifulDIYDocumentariesEarthPornexplainlikeimfivefoodfunnyFuturologygadgetsgamingGetMotiv\n",
      "atedgifshistoryIAmAInternetIsBeautifulJokesLifeProTipslistentothismildlyinterestingmoviesM\n",
      "usicnewsnosleepnottheonionOldSchoolCoolpersonalfinancephilosophyphotoshopbattlespicsscienc\n",
      "eShowerthoughtsspacesportstelevisiontifutodayilearnedTwoXChromosomesUpliftingNewsvideoswor\n",
      "ldnewsWritingPromptsedit subscriptions * popular * -all * -random | * AskReddit * -funny *\n",
      "-videos * -worldnews * -pics *\n",
      "\n",
      "* jump to content my subreddits announcementsArtAskRedditaskscienceawwblogbookscreepydataisb\n",
      "eautifulDIYDocumentariesEarthPornexplainlikeimfivefoodfunnyFuturologygadgetsgamingGetMotiv\n",
      "atedgifshistoryIAmAInternetIsBeautifulJokesLifeProTipslistentothismildlyinterestingmoviesM\n",
      "usicnewsnosleepnottheonionOldSchoolCoolpersonalfinancephilosophyphotoshopbattlespicsscienc\n",
      "eShowerthoughtsspacesportstelevisiontifutodayilearnedTwoXChromosomesUpliftingNewsvideoswor\n",
      "ldnewsWritingPromptsedit subscriptions * popular * -all * -random | * AskReddit * -funny *\n",
      "-videos * -worldnews * -pics *\n",
      "\n",
      "* Coming Monday! Robert Whaples on the Economics of Pope Francis Search EconTalk Recent\n",
      "Episodes and Extras close Podcast Episodes: March 6, 2017 Crafts, Garicano, and\n",
      "\n",
      "* # Sign In Username or Email Password Sign In Cancel # RPubs brought to you by RStudio Sign\n",
      "in Register * 111 Data Science Interview\n",
      "\n",
      "* * we're hiring! * blog * about imgur * imgur store * imgur apps * developer api *\n",
      "advertise * need help? terms privacy ad\n",
      "\n",
      "* linusakesson.net (show navigation) (hide navigation) * Swedish content ##### Site search:\n",
      "Navigation --- Home &amp; news Random page All pages Databases --- Fortune cookies SID\n",
      "==========================================================\n",
      "Cluster 24     homework:0.317 solution:0.077 course:0.076 midterm:0.072 data:0.069 lectures:0.062 \n",
      "\n",
      "* Machine Learning course - recorded at a live broadcast from Caltech # HOMEWORK The course\n",
      "has 8 homework sets plus a Final, according to the\n",
      "\n",
      "* # Machine Learning ## 10-701/15-781, Spring 2011 ## Carnegie Mellon University ## Tom\n",
      "Mitchell | ---|--- | --- | Home | People | Lectures |\n",
      "\n",
      "* Computer Science 294 Practical Machine Learning (Fall 2009) Prof. Michael Jordan (`jordan-\n",
      "AT-cs`) Lecture: Thursday 5-7pm, Soda 306 Office hours of the lecturer of the week:\n",
      "\n",
      "* # Solutions! * * * [Home][Solution][Article][Story][About Me][Photo][Link] * * * ##\n",
      "Apostol, Mathematical Analysis, 2/e (Shin-Yi Lee) Ch1 - The Real and Complex Number\n",
      "Systems\n",
      "\n",
      "* * * * ## # CS 281B / Stat 241B # Statistical Learning Theory # Spring 2004 --- * * * .\n",
      "[Syllabus] [Lectures] [Readings]\n",
      "\n",
      "* | ## Computer Science 510 Programming Languages Andrew Appel | ### Spring 2013 ###\n",
      "---|---|--- General Information Schedule Policies * * * This schedule is\n",
      "\n",
      "* CS 61A * Syllabus * Resources * Piazza * Office Hours * Weekly Schedule * Staff # CS 61A:\n",
      "The Structure and Interpretation of Computer\n",
      "\n",
      "* # Algorithms, Etc. ## by Jeff Erickson January 2015 revision This page contains lecture\n",
      "notes and other course materials for various algorithms classes I have\n",
      "==========================================================\n"
     ]
    }
   ],
   "source": [
    "print_cluster_words(df, models_dict, word_map=indx_to_word, k=25, n_words=6, n_docs=8, display_content=True)"
   ]
  },
  {
   "cell_type": "code",
   "execution_count": 29,
   "metadata": {
    "collapsed": false,
    "scrolled": true
   },
   "outputs": [
    {
     "name": "stdout",
     "output_type": "stream",
     "text": [
      "Cluster 0     soa:0.708 actuarial:0.286 actuaries:0.229 section:0.221 actuary:0.147 exam:0.128 \n",
      "==========================================================\n",
      "Cluster 1     related:0.401 vs:0.184 mental:0.126 people:0.118 product:0.114 market:0.114 \n",
      "==========================================================\n",
      "Cluster 2     data:0.035 learning:0.018 amp:0.016 time:0.016 10:0.014 using:0.014 \n",
      "==========================================================\n",
      "Cluster 3     nav:0.600 utf8:0.278 text:0.234 url:0.227 node:0.176 div:0.170 \n",
      "==========================================================\n",
      "Cluster 4     aapl:0.341 date:0.276 company:0.273 association:0.260 ge:0.246 open:0.210 \n",
      "==========================================================\n",
      "Cluster 5     university:0.397 online:0.352 college:0.250 engineering:0.168 courses:0.159 education:0.157 \n",
      "==========================================================\n",
      "Cluster 6     yaser:0.336 exercises:0.223 script:0.214 python:0.211 course:0.186 learning:0.179 \n",
      "==========================================================\n",
      "Cluster 7     population:0.378 dna:0.331 crossover:0.251 fitness:0.199 replydelete:0.193 selection:0.188 \n",
      "==========================================================\n",
      "Cluster 8     frye:0.726 norfolk:0.283 chambers:0.239 deck:0.188 sneaker:0.099 men:0.097 \n",
      "==========================================================\n",
      "Cluster 9     ago:0.339 days:0.316 com:0.047 like:0.047 just:0.042 https:0.040 \n",
      "==========================================================\n",
      "Cluster 10     wsj:0.450 podcast:0.301 journal:0.234 estate:0.222 video:0.170 amp:0.162 \n",
      "==========================================================\n",
      "Cluster 11     prices:0.358 neighborhood:0.282 cities:0.274 figure:0.249 tracts:0.229 census:0.226 \n",
      "==========================================================\n",
      "Cluster 12     vimeo:0.715 tm:0.143 upload:0.138 demand:0.133 picks:0.115 drawing:0.111 \n",
      "==========================================================\n",
      "Cluster 13     nfa:0.534 forex:0.324 futures:0.161 cpos:0.158 compliance:0.133 requirements:0.125 \n",
      "==========================================================\n",
      "Cluster 14     sleep:0.673 sleepwarrior:0.263 hacks:0.253 section:0.119 ebook:0.110 scribd:0.099 \n",
      "==========================================================\n",
      "Cluster 15     remote:0.534 129:0.468 days:0.308 ago:0.307 remotely:0.169 work:0.140 \n",
      "==========================================================\n",
      "Cluster 16     ashley:0.513 madison:0.454 women:0.211 men:0.170 bots:0.111 female:0.109 \n",
      "==========================================================\n",
      "Cluster 17     mathématiques:0.417 programmation:0.405 foundations:0.266 harper:0.256 theory:0.237 duration:0.235 \n",
      "==========================================================\n",
      "Cluster 18     ses:0.517 ocw:0.438 mit:0.295 courses:0.265 assignment:0.191 exercises:0.175 \n",
      "==========================================================\n",
      "Cluster 19     error:0.374 entropy:0.266 neural:0.239 ln:0.218 network:0.200 cross:0.183 \n",
      "==========================================================\n",
      "Cluster 20     characters:0.396 affiliates:0.266 sure:0.261 image:0.259 accepting:0.249 robot:0.240 \n",
      "==========================================================\n",
      "Cluster 21     java:0.250 hardware:0.242 ax:0.225 fpga:0.221 profiler:0.210 cracker:0.210 \n",
      "==========================================================\n",
      "Cluster 22     march:0.183 february:0.177 2009:0.176 2011:0.167 2010:0.163 2013:0.153 \n",
      "==========================================================\n",
      "Cluster 23     pdf:0.489 html:0.082 tex:0.075 neural:0.068 2013:0.059 networks:0.055 \n",
      "==========================================================\n",
      "Cluster 24     ocw:0.533 mit:0.365 courses:0.322 lecture:0.315 opencourseware:0.182 course:0.110 \n",
      "==========================================================\n",
      "Cluster 25     box:0.444 flexible:0.291 orientation:0.266 horizontal:0.246 elements:0.196 vertical:0.194 \n",
      "==========================================================\n",
      "Cluster 26     forex:0.651 trading:0.301 currency:0.151 trade:0.085 market:0.083 brokers:0.079 \n",
      "==========================================================\n",
      "Cluster 27     duration:0.398 views:0.328 loading:0.245 video:0.105 sign:0.099 play:0.099 \n",
      "==========================================================\n",
      "Cluster 28     homework:0.487 completed:0.303 meng:0.269 gen:0.234 ch4:0.179 ch2:0.179 \n",
      "==========================================================\n",
      "Cluster 29     course:0.248 class:0.221 gates:0.187 students:0.170 assignment:0.162 project:0.160 \n",
      "==========================================================\n",
      "Cluster 30     learning:0.130 neural:0.116 deep:0.103 networks:0.099 network:0.087 image:0.058 \n",
      "==========================================================\n",
      "Cluster 31     vpn:0.396 logs:0.341 response:0.276 q2:0.256 q1:0.235 ip:0.226 \n",
      "==========================================================\n",
      "Cluster 32     trading:0.408 strategy:0.380 strategies:0.285 execution:0.211 quantitative:0.204 hft:0.155 \n",
      "==========================================================\n",
      "Cluster 33     mapd:0.721 analytics:0.223 visual:0.124 billion:0.113 gpus:0.110 milliseconds:0.107 \n",
      "==========================================================\n",
      "Cluster 34     goodreads:0.321 ratings:0.320 rating:0.308 books:0.245 ___:0.216 book:0.204 \n",
      "==========================================================\n",
      "Cluster 35     theorem:0.859 qed:0.412 formula:0.122 euler:0.085 conjecture:0.073 poster:0.058 \n",
      "==========================================================\n",
      "Cluster 36     wolfram:0.663 mathematica:0.203 alpha:0.134 data:0.101 amp:0.067 language:0.058 \n",
      "==========================================================\n",
      "Cluster 37     bloomberg:0.904 pm:0.078 amp:0.078 ind:0.076 gov:0.071 bonds:0.070 \n",
      "==========================================================\n",
      "Cluster 38     rit:0.564 rotman:0.260 users:0.230 securities:0.198 cases:0.181 trading:0.176 \n",
      "==========================================================\n",
      "Cluster 39     116:0.408 ago:0.373 days:0.372 travis:0.254 project:0.168 117:0.153 \n",
      "==========================================================\n",
      "Cluster 40     udacity:0.566 nanodegree:0.347 learning:0.155 deep:0.118 lesson:0.116 página:0.108 \n",
      "==========================================================\n",
      "Cluster 41     proteins:0.589 protein:0.401 puzzle:0.266 amino:0.195 cooper:0.158 beginner:0.144 \n",
      "==========================================================\n",
      "Cluster 42     tensorflow:0.807 neural:0.134 machine:0.128 implementation:0.117 learning:0.115 deep:0.110 \n",
      "==========================================================\n",
      "Cluster 43     bayesian:0.427 pymc:0.365 chapter:0.254 book:0.169 notebook:0.160 ipython:0.158 \n",
      "==========================================================\n",
      "Cluster 44     gre:0.745 test:0.186 practice:0.115 prep:0.109 gmat:0.099 barron:0.091 \n",
      "==========================================================\n"
     ]
    }
   ],
   "source": [
    "print_cluster_words(df, models_dict, indx_to_word, 45, 6)"
   ]
  },
  {
   "cell_type": "markdown",
   "metadata": {},
   "source": [
    "With a cluster count of 45, many of the cluster are pure in content.  However, there are some clusters which have similar themes but are split into different clusters.  A cluster count between 25 and 45 will be use for LDA."
   ]
  },
  {
   "cell_type": "markdown",
   "metadata": {},
   "source": [
    "## LDA"
   ]
  },
  {
   "cell_type": "markdown",
   "metadata": {},
   "source": [
    "Not all topics have a clear theme\n",
    "Things to try:\n",
    "use graphlab\n",
    "modify alpha and beta in LDA\n",
    "reduce the number of topics"
   ]
  },
  {
   "cell_type": "code",
   "execution_count": 30,
   "metadata": {
    "collapsed": true
   },
   "outputs": [],
   "source": [
    "from sklearn.feature_extraction import text \n",
    "stop_words = text.ENGLISH_STOP_WORDS.union(['march','february','july',\"november\", \"april\", \"october\", \"may\", \"nov\"\n",
    "                                            \"january\", \"june\", \"august\", \"september\", \"december\", \"like\", \"sep\", \"jan\"])"
   ]
  },
  {
   "cell_type": "code",
   "execution_count": 31,
   "metadata": {
    "collapsed": true
   },
   "outputs": [],
   "source": [
    "cv1 = CountVectorizer(stop_words=stop_words, token_pattern=r'(?u)\\b[a-z\\'A-Z-]{2,}\\b', min_df=2, max_df=.95, max_features=1000)"
   ]
  },
  {
   "cell_type": "code",
   "execution_count": 32,
   "metadata": {
    "collapsed": false
   },
   "outputs": [],
   "source": [
    "tf1 = cv1.fit_transform(df['text'])"
   ]
  },
  {
   "cell_type": "code",
   "execution_count": 38,
   "metadata": {
    "collapsed": true
   },
   "outputs": [],
   "source": [
    "lda_1 = LatentDirichletAllocation(n_topics=45, max_iter=50, random_state=0, n_jobs=3)"
   ]
  },
  {
   "cell_type": "code",
   "execution_count": 39,
   "metadata": {
    "collapsed": false
   },
   "outputs": [
    {
     "name": "stdout",
     "output_type": "stream",
     "text": [
      "done in 30.3680000305\n"
     ]
    }
   ],
   "source": [
    "t0 = time()\n",
    "lda_1.fit(tf1)\n",
    "print \"done in {0}\".format(time()-t0)"
   ]
  },
  {
   "cell_type": "code",
   "execution_count": 40,
   "metadata": {
    "collapsed": true
   },
   "outputs": [],
   "source": [
    "def print_top_words(model, feature_names, n_top_words):\n",
    "    for topic_idx, topic in enumerate(model.components_):\n",
    "        print \"Topic #%d:\" % topic_idx\n",
    "        print \" \".join([feature_names[i] for i in topic.argsort()[:-n_top_words - 1:-1]])"
   ]
  },
  {
   "cell_type": "code",
   "execution_count": 41,
   "metadata": {
    "collapsed": false
   },
   "outputs": [
    {
     "name": "stdout",
     "output_type": "stream",
     "text": [
      "Topic #0:\n",
      "team remote company work week office working hours slides people companies home\n",
      "Topic #1:\n",
      "solution bayesian challenge models inference probabilistic statistics methods statistical regression model prior\n",
      "Topic #2:\n",
      "answer posts open stack company vote question questions sign answers site date\n",
      "Topic #3:\n",
      "base git txt commit data alpha page number file master content copy\n",
      "Topic #4:\n",
      "css format parent elements element comment level long short box web api\n",
      "Topic #5:\n",
      "type haskell language monad function types functions example id instance string just\n",
      "Topic #6:\n",
      "positive cancer theorem women breast probability related result blue evidence test group\n",
      "Topic #7:\n",
      "info copyright amp library index title pdf review vec reply color pm\n",
      "Topic #8:\n",
      "data model time using series mean values plot function example use value\n",
      "Topic #9:\n",
      "data python science learning learn sql machine analysis statistics code tutorial guide\n",
      "Topic #10:\n",
      "mar oct feb nov dec files drive blog add added file google\n",
      "Topic #11:\n",
      "http www com org https search google wikipedia edit paper page php\n",
      "Topic #12:\n",
      "layer self np data amp learning time text trading stack learn forex\n",
      "Topic #13:\n",
      "book chapter series read author examples table text version reading try programming\n",
      "Topic #14:\n",
      "category categories select count books cat set list data sets stock want\n",
      "Topic #15:\n",
      "data import int io language instance expr main ghc text return xs\n",
      "Topic #16:\n",
      "higher form abstract generated framework element org distribution src git http section\n",
      "Topic #17:\n",
      "use using windows file web support project code source user linux open\n",
      "Topic #18:\n",
      "pages published university quantum courses course mit ocw lecture theory introduction view\n",
      "Topic #19:\n",
      "reply says pm thanks article great likelike i'm post blog just thank\n",
      "Topic #20:\n",
      "information subject step reading important subject's cognitive segment details reasoning main program\n",
      "Topic #21:\n",
      "new aws amazon instance node click window share electronics amp instances parent\n",
      "Topic #22:\n",
      "matrix linear vectors algebra product feature processes instance words variables explain simply\n",
      "Topic #23:\n",
      "function number value algorithm example set numbers use problem array called define\n",
      "Topic #24:\n",
      "wolfram mathematica data drop amp language alpha support science development solutions services\n",
      "Topic #25:\n",
      "test gre math tests practice questions general section sample reasoning select problem\n",
      "Topic #26:\n",
      "text url class nav window node div function span var item amazon\n",
      "Topic #27:\n",
      "pdf theory review computer introduction foundations logic applications david robert mathematics computational\n",
      "Topic #28:\n",
      "ago days it's https com i'm just don't think gt i've really\n",
      "Topic #29:\n",
      "programming design computer systems functional algorithms java cs video software trees structures\n",
      "Topic #30:\n",
      "layer video new time amp network reply self example real says image\n",
      "Topic #31:\n",
      "learning deep neural networks machine tensorflow arxiv paper models recurrent language network\n",
      "Topic #32:\n",
      "video play views duration loading sign lecture watch videos add youtube minutes\n",
      "Topic #33:\n",
      "just it's time people make way good don't work things know think\n",
      "Topic #34:\n",
      "self np layer error def stack array sequence return list random sum\n",
      "Topic #35:\n",
      "remote ago text days work nav working class span node amp item\n",
      "Topic #36:\n",
      "course students mathematics homework mathematical project class theory equations introduction learning analysis\n",
      "Topic #37:\n",
      "probability distribution frac event right information random sample left given space length\n",
      "Topic #38:\n",
      "tensorflow learning ago course neural deep days points class slides windows com\n",
      "Topic #39:\n",
      "memory learning amp study et al time practice effect testing learn review\n",
      "Topic #40:\n",
      "trading forex market ecn trade accounts options currency strategy brokers markets financial\n",
      "Topic #41:\n",
      "free amp com reviews school books view gmat source new online john\n",
      "Topic #42:\n",
      "amp business new policy news information home search research contact world financial\n",
      "Topic #43:\n",
      "comments hours posted com january power points share david ago john education\n",
      "Topic #44:\n",
      "network image neural training model input data networks images learning features layer\n"
     ]
    }
   ],
   "source": [
    "print_top_words(lda_1, cv1.get_feature_names(), 12)"
   ]
  },
  {
   "cell_type": "code",
   "execution_count": 42,
   "metadata": {
    "collapsed": false
   },
   "outputs": [],
   "source": [
    "def plot_word_rank(model, n_top_words):\n",
    "    for idx, topic in enumerate(model.components_): \n",
    "        top_nums = [model.components_[idx, i] for i in topic.argsort()[:-n_top_words - 1:-1]]\n",
    "        #plt.semilogy(range(n_top_words), top_nums)\n",
    "        plt.plot(range(n_top_words), top_nums)\n",
    "    plt.xlabel('Word rank')\n",
    "    plt.ylabel('Word weight')\n",
    "    plt.title('Word Weight of Top 100 Words in each Topic')"
   ]
  },
  {
   "cell_type": "code",
   "execution_count": 43,
   "metadata": {
    "collapsed": false
   },
   "outputs": [
    {
     "data": {
      "image/png": "[encoded data removed]",
      "text/plain": [
       "<matplotlib.figure.Figure at 0x110e8080>"
      ]
     },
     "metadata": {},
     "output_type": "display_data"
    }
   ],
   "source": [
    "plot_word_rank(lda_1, 100)"
   ]
  },
  {
   "cell_type": "code",
   "execution_count": 44,
   "metadata": {
    "collapsed": false
   },
   "outputs": [],
   "source": [
    "def plot_top_words(model, n_top_words):\n",
    "    topic_sums = np.sum(model.components_, axis=1)\n",
    "    doc_probs = []\n",
    "    for idx, topic in enumerate(model.components_):\n",
    "        top_words = [model.components_[idx, i] for i in topic.argsort()[:-n_top_words - 1:-1]]\n",
    "        doc_probs.append(np.sum(top_words) / topic_sums[idx])\n",
    "    \n",
    "    g= sns.barplot(x=np.arange(len(topic_sums)), y=doc_probs)\n",
    "    g.set(xticklabels=[])\n",
    "    plt.title('Total Probability of Top 10 Words in each Topic')\n",
    "    plt.show()"
   ]
  },
  {
   "cell_type": "markdown",
   "metadata": {},
   "source": [
    "For many of the topics, the top 10 word carry most of the weight.  "
   ]
  },
  {
   "cell_type": "code",
   "execution_count": 45,
   "metadata": {
    "collapsed": false
   },
   "outputs": [
    {
     "data": {
      "image/png": "[encoded data removed]",
      "text/plain": [
       "<matplotlib.figure.Figure at 0x106f7ba8>"
      ]
     },
     "metadata": {},
     "output_type": "display_data"
    }
   ],
   "source": [
    "plot_top_words(lda_1, 10)"
   ]
  },
  {
   "cell_type": "code",
   "execution_count": 46,
   "metadata": {
    "collapsed": true
   },
   "outputs": [],
   "source": [
    "def top_docs(data, model, mat, nth_topic):\n",
    "    fltr = np.argmax(model.transform(mat), axis=1) == nth_topic\n",
    "    temp_df = data[fltr]\n",
    "    temp_df.reset_index(inplace=True, drop=True)\n",
    "    return temp_df"
   ]
  },
  {
   "cell_type": "code",
   "execution_count": 60,
   "metadata": {
    "collapsed": false
   },
   "outputs": [],
   "source": [
    "df_temp = top_docs(df, lda_1, tf1, 43)"
   ]
  },
  {
   "cell_type": "code",
   "execution_count": 61,
   "metadata": {
    "collapsed": false
   },
   "outputs": [
    {
     "data": {
      "text/html": [
       "<div>\n",
       "<table border=\"1\" class=\"dataframe\">\n",
       "  <thead>\n",
       "    <tr style=\"text-align: right;\">\n",
       "      <th></th>\n",
       "      <th>links</th>\n",
       "      <th>text</th>\n",
       "    </tr>\n",
       "  </thead>\n",
       "  <tbody>\n",
       "    <tr>\n",
       "      <th>0</th>\n",
       "      <td>http://news.ycombinator.com/</td>\n",
       "      <td>|  | Hacker News new | comments | show | ask |...</td>\n",
       "    </tr>\n",
       "    <tr>\n",
       "      <th>1</th>\n",
       "      <td>http://us.reddit.com/</td>\n",
       "      <td>jump to content\\n\\nmy subreddits\\n\\nannounceme...</td>\n",
       "    </tr>\n",
       "    <tr>\n",
       "      <th>2</th>\n",
       "      <td>http://www.econtalk.org/archives.html</td>\n",
       "      <td>\\n\\nComing Monday! Robert Whaples on the Econo...</td>\n",
       "    </tr>\n",
       "    <tr>\n",
       "      <th>3</th>\n",
       "      <td>https://news.ycombinator.com/</td>\n",
       "      <td>|  | Hacker News new | comments | show | ask |...</td>\n",
       "    </tr>\n",
       "    <tr>\n",
       "      <th>4</th>\n",
       "      <td>http://www.reddit.com/</td>\n",
       "      <td>jump to content\\n\\nmy subreddits\\n\\nannounceme...</td>\n",
       "    </tr>\n",
       "    <tr>\n",
       "      <th>5</th>\n",
       "      <td>http://www.linusakesson.net/hardware/index.php</td>\n",
       "      <td>linusakesson.net\\n\\n(show navigation)\\n\\n(hide...</td>\n",
       "    </tr>\n",
       "  </tbody>\n",
       "</table>\n",
       "</div>"
      ],
      "text/plain": [
       "                                            links  \\\n",
       "0                    http://news.ycombinator.com/   \n",
       "1                           http://us.reddit.com/   \n",
       "2           http://www.econtalk.org/archives.html   \n",
       "3                   https://news.ycombinator.com/   \n",
       "4                          http://www.reddit.com/   \n",
       "5  http://www.linusakesson.net/hardware/index.php   \n",
       "\n",
       "                                                text  \n",
       "0  |  | Hacker News new | comments | show | ask |...  \n",
       "1  jump to content\\n\\nmy subreddits\\n\\nannounceme...  \n",
       "2  \\n\\nComing Monday! Robert Whaples on the Econo...  \n",
       "3  |  | Hacker News new | comments | show | ask |...  \n",
       "4  jump to content\\n\\nmy subreddits\\n\\nannounceme...  \n",
       "5  linusakesson.net\\n\\n(show navigation)\\n\\n(hide...  "
      ]
     },
     "execution_count": 61,
     "metadata": {},
     "output_type": "execute_result"
    }
   ],
   "source": [
    "df_temp.head(15)"
   ]
  },
  {
   "cell_type": "code",
   "execution_count": 59,
   "metadata": {
    "collapsed": false
   },
   "outputs": [
    {
     "name": "stdout",
     "output_type": "stream",
     "text": [
      "Toggle navigation Yuan Tang\n",
      "\n",
      "  * Home\n",
      "  * About\n",
      "  * Projects\n",
      "  * Tags\n",
      "\n",
      "Deep Learning TensorFlow Open Source Machine Learning Python\n",
      "\n",
      "# Introduction to Scikit Flow\n",
      "\n",
      "## A Simplified Interface to TensorFlow\n",
      "\n",
      "Posted by Yuan Tang on March 14, 2016\n",
      "\n",
      "(This blog is featured in DataScienceWeekly here)\n",
      "\n",
      "In November, 2015, Google open-sourced its numerical computation library\n",
      "called TensorFlow using data flow graphs. Its flexible implementation and\n",
      "architecture enables you to focus on building the computation graph and deploy\n",
      "the model with little efforts on heterogeous platforms such as mobile devices,\n",
      "hundreds of machines, or thousands of computational devices.\n",
      "\n",
      "TensorFlow is generally very straightforward to use in a sense that most of\n",
      "the researchers in the research area without experience of using this library\n",
      "could understand what’s happening behind the code blocks. TensorFlow provides\n",
      "a good backbone for building different shapes of machine learning\n",
      "applications.\n",
      "\n",
      "However, there’s a large number of potential users, including some\n",
      "researchers, data scientists, and students who may be familiar with many data\n",
      "science concepts/algorithms already but who never get involved in deep\n",
      "learning research/applications, may found it really hard to start hacking.\n",
      "That’s where Scikit Flow comes in to help.\n",
      "\n",
      "Scikit Flow is a simplified interface for TensorFlow, to get people started on\n",
      "predictive analytics and data mining. It helps smooth the transition from the\n",
      "Scikit-learn world of one-liner machine learning into the more open world of\n",
      "building different shapes of ML models. You can start by using fit/predict and\n",
      "slide into TensorFlow APIs as you are getting comfortable. It’s Scikit-learn\n",
      "compatible so you can also benefit from Scikit-learn features like\n",
      "`GridSearch` and `Pipeline`.\n",
      "\n",
      "## Deep Learning Models\n",
      "\n",
      "Scikit Flow provides a set of high level model classes that you can use to\n",
      "easily integrate with your existing Scikit-learn pipeline code.\n",
      "\n",
      "### Deep Neural Network\n",
      "\n",
      "Here’s an example of 3 layer deep neural network with 10, 20 and 10 hidden\n",
      "units in each layer respectively:\n",
      "\n",
      "    \n",
      "    \n",
      "    import tensorflow.contrib.learn as skflow\n",
      "    from sklearn import datasets, metrics\n",
      "    \n",
      "    iris = datasets.load_iris()\n",
      "    classifier = skflow.TensorFlowDNNClassifier(hidden_units=[10, 20, 10], n_classes=3)\n",
      "    classifier.fit(iris.data, iris.target)\n",
      "    score = metrics.accuracy_score(iris.target, classifier.predict(iris.data))\n",
      "    print(\"Accuracy: %f\" % score)\n",
      "    \n",
      "\n",
      "### Custom Model\n",
      "\n",
      "Scikit Flow grows as TensorFlow grows. You can basically insert any TensorFlow\n",
      "code into a custom model function that accepts predictors `X` and target `y`\n",
      "and returns predictions and losses, and then pass it to\n",
      "`skflow.TensorFlowEstimator`. Here’s an example of how to pass a custom model\n",
      "to `TensorFlowEstimator`, utilizing some built-in `losses_ops` from Scikit\n",
      "Flow. More advanced examples can be found in examples folder, such as deep\n",
      "residual network that seemlessly uses TensorFlow code.\n",
      "\n",
      "    \n",
      "    \n",
      "    from sklearn import datasets, metrics\n",
      "    \n",
      "    iris = datasets.load_iris()\n",
      "    \n",
      "    def my_model(X, y):\n",
      "        \"\"\"This is DNN with 10, 20, 10 hidden layers, and dropout of 0.5 probability.\"\"\"\n",
      "        layers = skflow.ops.dnn(X, [10, 20, 10], keep_prob=0.5)\n",
      "        return skflow.models.logistic_regression(layers, y)\n",
      "    \n",
      "    classifier = skflow.TensorFlowEstimator(model_fn=my_model, n_classes=3)\n",
      "    classifier.fit(iris.data, iris.target)\n",
      "    score = metrics.accuracy_score(iris.target, classifier.predict(iris.data))\n",
      "    print(\"Accuracy: %f\" % score)\n",
      "    \n",
      "\n",
      "### Recurrent Neural Network\n",
      "\n",
      "Recurrent neural networks is widely used for many areas, such as text\n",
      "classification, sentiment analysis, etc. Using Scikit Flow, all you need to do\n",
      "is to provide some processing function `input_op_fn` that manipultes the input\n",
      "data into the right shape (we will not cover them here, see examples folder on\n",
      "Github), change a few parameters, and call `fit` as usual. Currently Scikit\n",
      "Flow provides high level APIs for variants of RNNs.\n",
      "\n",
      "  * Various recurrent units, e.g. GRU, RNN, LSTM\n",
      "  * Bidirectional RNN\n",
      "  * Multi-layer RNN\n",
      "\n",
      "Example:\n",
      "\n",
      "    \n",
      "    \n",
      "    classifier = skflow.TensorFlowRNNClassifier(rnn_size=EMBEDDING_SIZE, \n",
      "        n_classes=15, cell_type='gru', input_op_fn=input_op_fn,\n",
      "        num_layers=1, bidirectional=False, sequence_length=None,\n",
      "        steps=1000, optimizer='Adam', learning_rate=0.01, continue_training=True)\n",
      "    \n",
      "\n",
      "### Convolutional Neural Network\n",
      "\n",
      "Convolutional Neural Network is widely used in areas like computer vision.\n",
      "Here let’s take a look at the MNIST image classification example from\n",
      "TensorFlow tutorial - Deep MNIST for Experts but using more concise interface\n",
      "provided by Scikit Flow. `Import` statements and additional comments are\n",
      "ignored in this blogpost but you can found them in examples folder. A custom\n",
      "model called `conv_model` with convolutional and densely connected layers\n",
      "specified is passed into `skflow.TensorFlowEstimator`. You get all other\n",
      "built-in parameters such as `learning_rate` and `batch_size` for free at the\n",
      "same time without getting into writing repeated code using TensorFlow low\n",
      "level APIs.\n",
      "\n",
      "    \n",
      "    \n",
      "    # Loading MNIST data\n",
      "    mnist = input_data.read_data_sets('MNIST_data')\n",
      "    \n",
      "    def max_pool_2x2(tensor_in):\n",
      "        return tf.nn.max_pool(tensor_in, ksize=[1, 2, 2, 1], strides=[1, 2, 2, 1],\n",
      "            padding='SAME')\n",
      "    \n",
      "    def conv_model(X, y):\n",
      "        # reshape X to 4d tensor with 2nd and 3rd dimensions being image width and height\n",
      "        # final dimension being the number of color channels\n",
      "        X = tf.reshape(X, [-1, 28, 28, 1])\n",
      "        # first conv layer will compute 32 features for each 5x5 patch\n",
      "        with tf.variable_scope('conv_layer1'):\n",
      "            h_conv1 = skflow.ops.conv2d(X, n_filters=32, filter_shape=[5, 5], \n",
      "                                        bias=True, activation=tf.nn.relu)\n",
      "            h_pool1 = max_pool_2x2(h_conv1)\n",
      "        # second conv layer will compute 64 features for each 5x5 patch\n",
      "        with tf.variable_scope('conv_layer2'):\n",
      "            h_conv2 = skflow.ops.conv2d(h_pool1, n_filters=64, filter_shape=[5, 5], \n",
      "                                        bias=True, activation=tf.nn.relu)\n",
      "            h_pool2 = max_pool_2x2(h_conv2)\n",
      "            # reshape tensor into a batch of vectors\n",
      "            h_pool2_flat = tf.reshape(h_pool2, [-1, 7 * 7 * 64])\n",
      "        # densely connected layer with 1024 neurons\n",
      "        h_fc1 = skflow.ops.dnn(h_pool2_flat, [1024], activation=tf.nn.relu, keep_prob=0.5)\n",
      "        return skflow.models.logistic_regression(h_fc1, y)\n",
      "    \n",
      "    # Training and predicting\n",
      "    classifier = skflow.TensorFlowEstimator(\n",
      "        model_fn=conv_model, n_classes=10, batch_size=100, steps=20000,\n",
      "        learning_rate=0.001)\n",
      "    \n",
      "\n",
      "## Modelling Techniques\n",
      "\n",
      "Many data science modelling techniques, including early stopping that’s used\n",
      "very often in Kaggle competition and custom learning rate decay can be used\n",
      "easily.\n",
      "\n",
      "### Early Stopping\n",
      "\n",
      "You can provide `early_stopping_rounds` in `skflow.monitors.ValidationMonitor`\n",
      "object and pass into `fit` function to monitor the training and stop the\n",
      "training when validation loss stops decreasing for several continuous rounds.\n",
      "\n",
      "    \n",
      "    \n",
      "    val_monitor = skflow.monitors.ValidationMonitor(X_val, y_val,\n",
      "                                                    early_stopping_rounds=200,\n",
      "                                                    n_classes=3,\n",
      "                                                    print_steps=50)\n",
      "    # classifier with early stopping on validation data\n",
      "    classifier = skflow.TensorFlowDNNClassifier(hidden_units=[10, 20, 10],\n",
      "                                                 n_classes=3, steps=2000)\n",
      "    # provide a validation monitor with early stopping rounds and validation set\n",
      "    classifier.fit(X_train, y_train, val_monitor) \n",
      "    \n",
      "\n",
      "### Custom Decay Function for Learning Rate\n",
      "\n",
      "Here we give an example of using TensorFlow’s exponential decay function.\n",
      "\n",
      "    \n",
      "    \n",
      "    # setup exponential decay function\n",
      "    def exp_decay(global_step):\n",
      "        return tf.train.exponential_decay(\n",
      "            learning_rate=0.1, global_step=global_step,\n",
      "            decay_steps=100, decay_rate=0.001)\n",
      "    \n",
      "    # use customized decay function in learning_rate\n",
      "    classifier = skflow.TensorFlowDNNClassifier(hidden_units=[10, 20, 10],\n",
      "                                                n_classes=3, steps=800,\n",
      "                                                learning_rate=exp_decay)\n",
      "    \n",
      "\n",
      "More features related to modelling techniques are also available such as\n",
      "multi-output regression/classification, custom class weights, dropout\n",
      "probability, batch normalization, etc. We will continue adding more examples\n",
      "on Github in the future.\n",
      "\n",
      "## Additional Features\n",
      "\n",
      "Scikit Flow provides many additional features to help you easy and streamline\n",
      "your model building experience. It’s evolving very rapidly. We are actively\n",
      "seeking suggestions/ideas and welcoming any pull requests. Join our Gitter to\n",
      "discuss your ideas or drop your feature requests at Github issues.\n",
      "\n",
      "### Flexible Automatic Input Handling\n",
      "\n",
      "We try to make your life easier with automatic handling of various data types,\n",
      "such as numpy array/matrices, pandas/dask data frames, and iterators.\n",
      "\n",
      "For example, sometimes when your dataset is too large to hold in the memory\n",
      "you may want to load it into a out-of-core dataframe with the help of dask\n",
      "library to firstly draw sample batches and then load into memory for training.\n",
      "\n",
      "    \n",
      "    \n",
      "    # We can load data into pandas.DataFrame\n",
      "    X_train, y_train, X_test, y_test = [pd.DataFrame(data) for data in [X_train, y_train, X_test, y_test]]\n",
      "    # Or load data into dask.DataFrame, details see: http://dask.pydata.org/en/latest/dataframe.html\n",
      "    X_train, y_train, X_test, y_test = [dd.from_pandas(data, npartitions=2) for data in [X_train, y_train, X_test, y_test]]\n",
      "    \n",
      "    classifier = skflow.TensorFlowLinearClassifier(n_classes=3)\n",
      "    \n",
      "    classifier.fit(X_train, y_train)\n",
      "    # Make predictions on each partitions of testing data\n",
      "    predictions = X_test.map_partitions(classifier.predict).compute()\n",
      "    # Calculate accuracy\n",
      "    score = metrics.accuracy_score(y_test.compute(), predictions)\n",
      "    \n",
      "\n",
      "### Model Persistence\n",
      "\n",
      "We try to make it easy for you to save the model every once a while and\n",
      "continue training it any time in the future.\n",
      "\n",
      "Each estimator has a `save` method which takes folder path where all model\n",
      "information will be saved. For restoring you can just call\n",
      "`skflow.TensorFlowEstimator.restore(path)` and it will return object of your\n",
      "class.\n",
      "\n",
      "    \n",
      "    \n",
      "    classifier = skflow.TensorFlowLinearRegression()\n",
      "    classifier.fit(...)\n",
      "    classifier.save('/tmp/tf_examples/my_model_1/')\n",
      "    \n",
      "    new_classifier = TensorFlowEstimator.restore('/tmp/tf_examples/my_model_2')\n",
      "    new_classifier.predict(...)\n",
      "    \n",
      "\n",
      "### Summaries/TensorBoard\n",
      "\n",
      "To get nice visualizations and summaries you can use `logdir` parameter on\n",
      "`fit`. It will start writing summaries for `loss` and histograms for variables\n",
      "in your model. You can also add custom summaries in your custom model function\n",
      "by calling `tf.summary` and passing Tensors to report.\n",
      "\n",
      "    \n",
      "    \n",
      "    classifier = skflow.TensorFlowLinearRegression()\n",
      "    classifier.fit(X, y, logdir='/tmp/tf_examples/my_model_1/')\n",
      "    \n",
      "\n",
      "Then run next command in command line:\n",
      "\n",
      "    \n",
      "    \n",
      "    tensorboard --logdir=/tmp/tf_examples/my_model_1\n",
      "    \n",
      "\n",
      "and follow reported url in your console to open the tensorboard.\n",
      "\n",
      "More Examples and applications can be found on Github:\n",
      "\n",
      "  * Text classification (RNN &amp; Convolution, word and character-level)\n",
      "  * Digits &amp; MNIST (Conv, more Conv and ResNet)\n",
      "  * Language models\n",
      "  * Neural Translation Model\n",
      "\n",
      "More blogposts about Scikit Flow:\n",
      "\n",
      "  * Building Machine Learning Estimator in TensorFlow\n",
      "  * High-level Learn Module in TensorFlow\n",
      "  * Introduction to Scikit Flow and why you want to start learning TensorFlow\n",
      "  * DNNs, custom model and Digit recognition examples\n",
      "  * Categorical variables: One hot vs Distributed representation\n",
      "  * Scikit Flow: Easy Deep Learning with TensorFlow and Scikit-learn\n",
      "\n",
      "More exciting things are happening! Spoiler alert: we are moving to TensorFlow\n",
      "soon! Stay tuned!\n",
      "\n",
      "Update: skflow has been merged to TensorFlow as its TensorFlow Learn module.\n",
      "Please find most updated examples here.\n",
      "\n",
      "  \n",
      "Copyright Reserved Yuan Tang 2016-2017  \n",
      "Banner Credit to TensorFlow Org\n",
      "\n",
      "* * *// dynamic User by Hux var _user = 'terrytangyuan'; // duoshuo comment query. var duoshuoQuery = {short_name: _user }; (function() { var ds = document.createElement('script'); ds.type = 'text/javascript';ds.async = true; ds.src = (document.location.protocol == 'https:' ? 'https:' : 'http:') + '//static.duoshuo.com/embed.js'; ds.charset = 'UTF-8'; (document.getElementsByTagName('head')[0] || document.getElementsByTagName('body')[0]).appendChild(ds); })();  /* * * CONFIGURATION VARIABLES * * */ var disqus_shortname = \"terrytangyuan\"; var disqus_identifier = \"/2016/03/14/scikit-flow-intro\"; var disqus_url = \"http://terrytangyuan.github.io/2016/03/14/scikit-flow-intro/\"; (function() { var dsq = document.createElement('script'); dsq.type = 'text/javascript'; dsq.async = true; dsq.src = '//' + disqus_shortname + '.disqus.com/embed.js'; (document.getElementsByTagName('head')[0] || document.getElementsByTagName('body')[0]).appendChild(dsq); })();  function async(u, c) { var d = document, t = 'script', o = d.createElement(t), s = d.getElementsByTagName(t)[0]; o.src = u; if (c) { o.addEventListener('load', function (e) { c(null, e); }, false); } s.parentNode.insertBefore(o, s); }  async(\"http://cdn.bootcss.com/anchor-js/1.1.1/anchor.min.js\",function(){ anchors.options = { visible: 'always', placement: 'right', icon: '#' }; anchors.add().remove('.intro-header h1').remove('.subheading').remove('.sidebar-container h5'); })  /* place left on bigger screen */ @media all and (min-width: 800px) { .anchorjs-link{ position: absolute; left: -0.75em; font-size: 1.1em; margin-top : -0.1em; } } function async(u, c) { var d = document, t = 'script', o = d.createElement(t), s = d.getElementsByTagName(t)[0]; o.src = u; if (c) { o.addEventListener('load', function (e) { c(null, e); }, false); } s.parentNode.insertBefore(o, s); }  async(\"http://cdn.bootcss.com/highlight.js/8.6/highlight.min.js\", function(){ hljs.initHighlightingOnLoad(); }) // only load tagcloud.js in tag.html if($('#tag_cloud').length !== 0){ async(\"/js/jquery.tagcloud.js\",function(){ $.fn.tagcloud.defaults = { //size: {start: 1, end: 1, unit: 'em'}, color: {start: '#bbbbee', end: '#0085a1'}, }; $('#tag_cloud a').tagcloud(); }) }  async(\"http://cdn.bootcss.com/fastclick/1.0.6/fastclick.min.js\", function(){ var $nav = document.querySelector(\"nav\"); if($nav) FastClick.attach($nav); })  // dynamic User by Hux var _gaId = 'UA-74985813-1'; var _gaDomain = 'terrytangyuan.github.io'; // Originial (function(i,s,o,g,r,a,m){i['GoogleAnalyticsObject']=r;i[r]=i[r]||function(){ (i[r].q=i[r].q||[]).push(arguments)},i[r].l=1*new Date();a=s.createElement(o), m=s.getElementsByTagName(o)[0];a.async=1;a.src=g;m.parentNode.insertBefore(a,m) })(window,document,'script','//www.google-analytics.com/analytics.js','ga'); ga('create', _gaId, _gaDomain); ga('send', 'pageview'); \n",
      "\n",
      "\n"
     ]
    }
   ],
   "source": [
    "print df_temp.loc[36,'text']"
   ]
  },
  {
   "cell_type": "code",
   "execution_count": null,
   "metadata": {
    "collapsed": true
   },
   "outputs": [],
   "source": [
    "labels= {44:'Deep_Learning',}"
   ]
  }
 ],
 "metadata": {
  "kernelspec": {
   "display_name": "Python 2",
   "language": "python",
   "name": "python2"
  },
  "language_info": {
   "codemirror_mode": {
    "name": "ipython",
    "version": 2
   },
   "file_extension": ".py",
   "mimetype": "text/x-python",
   "name": "python",
   "nbconvert_exporter": "python",
   "pygments_lexer": "ipython2",
   "version": "2.7.13"
  }
 },
 "nbformat": 4,
 "nbformat_minor": 0
}
