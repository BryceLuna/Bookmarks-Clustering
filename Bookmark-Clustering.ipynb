{
 "cells": [
  {
   "cell_type": "markdown",
   "metadata": {},
   "source": [
    "# Bookmark Clustering"
   ]
  },
  {
   "cell_type": "markdown",
   "metadata": {},
   "source": [
    "## Import Packages"
   ]
  },
  {
   "cell_type": "code",
   "execution_count": 1,
   "metadata": {
    "collapsed": true
   },
   "outputs": [],
   "source": [
    "import pandas as pd\n",
    "import numpy as np\n",
    "from sklearn.decomposition import LatentDirichletAllocation\n",
    "from sklearn.feature_extraction.text import CountVectorizer\n",
    "from sklearn.cluster import KMeans\n",
    "from sklearn.feature_extraction.text import TfidfVectorizer\n",
    "from sklearn.preprocessing import normalize\n",
    "import seaborn as sns\n",
    "from time import time\n",
    "import matplotlib.pyplot as plt \n",
    "%matplotlib inline"
   ]
  },
  {
   "cell_type": "markdown",
   "metadata": {},
   "source": [
    "review (Galvanize) topic modeling - NMF etc."
   ]
  },
  {
   "cell_type": "code",
   "execution_count": 2,
   "metadata": {
    "collapsed": false
   },
   "outputs": [],
   "source": [
    "df = pd.read_pickle('Data/df_website_content.pkl')"
   ]
  },
  {
   "cell_type": "code",
   "execution_count": 3,
   "metadata": {
    "collapsed": false
   },
   "outputs": [],
   "source": [
    "df = df.drop_duplicates()"
   ]
  },
  {
   "cell_type": "code",
   "execution_count": 4,
   "metadata": {
    "collapsed": false
   },
   "outputs": [],
   "source": [
    "df = df[df['text'] != 'empty']"
   ]
  },
  {
   "cell_type": "code",
   "execution_count": 5,
   "metadata": {
    "collapsed": false
   },
   "outputs": [],
   "source": [
    "df = df.sample(frac=1)"
   ]
  },
  {
   "cell_type": "code",
   "execution_count": 6,
   "metadata": {
    "collapsed": false
   },
   "outputs": [],
   "source": [
    "df.reset_index(drop=True, inplace=True)"
   ]
  },
  {
   "cell_type": "markdown",
   "metadata": {},
   "source": [
    "## K-Means"
   ]
  },
  {
   "cell_type": "markdown",
   "metadata": {},
   "source": [
    "The goal here is to try and determine how many topics to use for the other clustering algorithms"
   ]
  },
  {
   "cell_type": "markdown",
   "metadata": {},
   "source": [
    "Sklearn KMeans centers the data but doing normalization explicitly here "
   ]
  },
  {
   "cell_type": "code",
   "execution_count": 23,
   "metadata": {
    "collapsed": false
   },
   "outputs": [],
   "source": [
    "tf_idf_vectorizer = TfidfVectorizer(stop_words='english', min_df=2, max_df=.95)\n",
    "tf_idf = tf_idf_vectorizer.fit_transform(df['text'])"
   ]
  },
  {
   "cell_type": "code",
   "execution_count": 8,
   "metadata": {
    "collapsed": false
   },
   "outputs": [],
   "source": [
    "tf_idf = normalize(tf_idf)"
   ]
  },
  {
   "cell_type": "code",
   "execution_count": 9,
   "metadata": {
    "collapsed": true
   },
   "outputs": [],
   "source": [
    "def build_models(data, cluster_lst, n_iter, jobs=4):\n",
    "    model_dict = {}\n",
    "    for k in cluster_lst:\n",
    "        model_dict[k] = {}\n",
    "        model = KMeans(n_clusters=k, n_init=n_iter, n_jobs=jobs, random_state=123)\n",
    "        model_dict[k]['model'] = model\n",
    "        model_dict[k]['distances'] = model.fit_transform(tf_idf)\n",
    "    return model_dict"
   ]
  },
  {
   "cell_type": "code",
   "execution_count": 10,
   "metadata": {
    "collapsed": false
   },
   "outputs": [],
   "source": [
    "k_lst = np.arange(5, 120, 20)"
   ]
  },
  {
   "cell_type": "code",
   "execution_count": 11,
   "metadata": {
    "collapsed": false
   },
   "outputs": [
    {
     "name": "stdout",
     "output_type": "stream",
     "text": [
      "210.365999937\n"
     ]
    }
   ],
   "source": [
    "start = time()\n",
    "models_dict = build_models(tf_idf, k_lst, 15, 4)\n",
    "end = time()\n",
    "print end - start"
   ]
  },
  {
   "cell_type": "code",
   "execution_count": 12,
   "metadata": {
    "collapsed": false
   },
   "outputs": [],
   "source": [
    "h_lst = [abs(models_dict[k]['model'].score(tf_idf)) for k in k_lst]"
   ]
  },
  {
   "cell_type": "code",
   "execution_count": 13,
   "metadata": {
    "collapsed": true
   },
   "outputs": [],
   "source": [
    "def plot_k_vs_heterogeneity(k_values, heterogeneity_values):\n",
    "    plt.figure(figsize=(7,4))\n",
    "    plt.plot(k_values, heterogeneity_values, linewidth=4)\n",
    "    plt.xlabel('K')\n",
    "    plt.ylabel('Heterogeneity')\n",
    "    plt.title('K vs. Heterogeneity')\n",
    "    plt.rcParams.update({'font.size': 16})\n",
    "    plt.tight_layout()"
   ]
  },
  {
   "cell_type": "code",
   "execution_count": 14,
   "metadata": {
    "collapsed": false
   },
   "outputs": [
    {
     "data": {
      "image/png": "[encoded data removed]",
      "text/plain": [
       "<matplotlib.figure.Figure at 0xcad7dd8>"
      ]
     },
     "metadata": {},
     "output_type": "display_data"
    }
   ],
   "source": [
    "plot_k_vs_heterogeneity(k_lst, h_lst)"
   ]
  },
  {
   "cell_type": "code",
   "execution_count": 15,
   "metadata": {
    "collapsed": false
   },
   "outputs": [],
   "source": [
    "def print_bin_counts(models, cluster_lst):\n",
    "    for k in cluster_lst:\n",
    "        print \"bin count of cluster {0}:\".format(k)\n",
    "        np.bincount(models[k]['model'].labels_)"
   ]
  },
  {
   "cell_type": "markdown",
   "metadata": {},
   "source": [
    "Build a function to plot bincounts for a particular cluster count k"
   ]
  },
  {
   "cell_type": "code",
   "execution_count": 16,
   "metadata": {
    "collapsed": true
   },
   "outputs": [],
   "source": [
    "def plt_cluster_counts(k_val, models, ticks=True, logscale=False):\n",
    "    labels = models[k_val]['model'].labels_\n",
    "    g = sns.barplot(x=np.arange(k_val), y=np.bincount(labels))\n",
    "    if not ticks:\n",
    "        g.set(xticklabels=[])\n",
    "    if logscale:\n",
    "        g.figure.get_axes()[0].set_yscale('log')\n",
    "    else: plt.show()"
   ]
  },
  {
   "cell_type": "markdown",
   "metadata": {},
   "source": [
    "Most of the bookmarks are data science, pure math, or finance.  Three major cluster groups make sense in this context."
   ]
  },
  {
   "cell_type": "code",
   "execution_count": 17,
   "metadata": {
    "collapsed": false
   },
   "outputs": [
    {
     "data": {
      "image/png": "[encoded data removed]",
      "text/plain": [
       "<matplotlib.figure.Figure at 0xcaeffd0>"
      ]
     },
     "metadata": {},
     "output_type": "display_data"
    }
   ],
   "source": [
    "plt_cluster_counts(5, models_dict)"
   ]
  },
  {
   "cell_type": "code",
   "execution_count": 18,
   "metadata": {
    "collapsed": false
   },
   "outputs": [
    {
     "data": {
      "image/png": "[encoded data removed]",
      "text/plain": [
       "<matplotlib.figure.Figure at 0xcff5e48>"
      ]
     },
     "metadata": {},
     "output_type": "display_data"
    }
   ],
   "source": [
    "plt_cluster_counts(25, models_dict)"
   ]
  },
  {
   "cell_type": "code",
   "execution_count": 19,
   "metadata": {
    "collapsed": false
   },
   "outputs": [
    {
     "data": {
      "image/png": "[encoded data removed]",
      "text/plain": [
       "<matplotlib.figure.Figure at 0xaf8a630>"
      ]
     },
     "metadata": {},
     "output_type": "display_data"
    }
   ],
   "source": [
    "plt_cluster_counts(45, models_dict, ticks=False)"
   ]
  },
  {
   "cell_type": "code",
   "execution_count": 125,
   "metadata": {
    "collapsed": false
   },
   "outputs": [
    {
     "data": {
      "image/png": "[encoded data removed]",
      "text/plain": [
       "<matplotlib.figure.Figure at 0xe4675c0>"
      ]
     },
     "metadata": {},
     "output_type": "display_data"
    }
   ],
   "source": [
    "plt_cluster_counts(85, models_dict, ticks=False)"
   ]
  },
  {
   "cell_type": "code",
   "execution_count": 25,
   "metadata": {
    "collapsed": false
   },
   "outputs": [],
   "source": [
    "indx_to_word = {v:k for k,v in tf_idf_vectorizer.vocabulary_.iteritems()}"
   ]
  },
  {
   "cell_type": "code",
   "execution_count": 269,
   "metadata": {
    "collapsed": true
   },
   "outputs": [],
   "source": [
    "def print_cluster_words(df, models, word_map, k, n_words, n_docs=5, display_content=False):\n",
    "    #should check if k is valid\n",
    "    centroids = models[k]['model'].cluster_centers_\n",
    "    for c in xrange(len(centroids)):\n",
    "        print('Cluster {0:d}    '.format(c)),\n",
    "        indx = centroids[c].argsort()[::-1]\n",
    "        for i in xrange(n_words):\n",
    "            print('{0:s}:{1:.3f}'.format(word_map[indx[i]], centroids[c, indx[i]])),\n",
    "        print('')\n",
    "        \n",
    "        if display_content:\n",
    "            c_filter = models_dict[k]['model'].labels_ == c\n",
    "            min_cluster_idx = models_dict[k]['distances'][c_filter][:,c].argsort()\n",
    "            cluster_df = df['text'][c_filter]\n",
    "            cluster_df.reset_index(drop=True, inplace=True)\n",
    "            nearest_txt_df = cluster_df.iloc[min_cluster_idx]\n",
    "       \n",
    "            if len(cluster_df) >= n_docs:\n",
    "                for i in xrange(n_docs):\n",
    "                    text = ' '.join(nearest_txt_df.iloc[i].split(None, 25)[0:25]).encode('utf-8')\n",
    "                    print('\\n* {0:s}\\n  {1:s}'.format(\n",
    "                            text[:90], text[90:200] if len(text) > 90 else ''))\n",
    "            else: print(\"not enough docs in group\")\n",
    "        print('==========================================================')"
   ]
  },
  {
   "cell_type": "code",
   "execution_count": 284,
   "metadata": {
    "collapsed": false
   },
   "outputs": [
    {
     "name": "stdout",
     "output_type": "stream",
     "text": [
      "Cluster 0     theorem:0.205 integral:0.087 vector:0.085 equations:0.074 qed:0.070 integrals:0.068 \n",
      "==========================================================\n",
      "Cluster 1     data:0.073 learning:0.032 science:0.029 amp:0.024 python:0.023 learn:0.020 \n",
      "==========================================================\n",
      "Cluster 2     forex:0.260 trading:0.204 currency:0.087 market:0.083 trade:0.061 strategy:0.048 \n",
      "==========================================================\n",
      "Cluster 3     ago:0.325 days:0.291 com:0.051 like:0.048 just:0.043 comments:0.042 \n",
      "==========================================================\n",
      "Cluster 4     characters:0.396 affiliates:0.266 sure:0.261 image:0.259 accepting:0.249 robot:0.240 \n",
      "==========================================================\n",
      "Cluster 5     neural:0.159 network:0.123 networks:0.093 memory:0.080 output:0.079 layer:0.078 \n",
      "==========================================================\n",
      "Cluster 6     time:0.092 model:0.092 data:0.085 team:0.072 series:0.053 gmt:0.048 \n",
      "==========================================================\n",
      "Cluster 7     mathematica:0.144 stack:0.131 vote:0.091 overflow:0.074 answer:0.073 answers:0.072 \n",
      "==========================================================\n",
      "Cluster 8     frac:0.211 theta:0.145 x_:0.101 gradient:0.082 sin:0.068 displaystyle:0.065 \n",
      "==========================================================\n",
      "Cluster 9     haskell:0.099 theory:0.088 monad:0.070 type:0.061 monads:0.058 book:0.054 \n",
      "==========================================================\n",
      "Cluster 10     algorithm:0.072 array:0.054 algorithms:0.039 number:0.036 probability:0.036 related:0.035 \n",
      "==========================================================\n",
      "Cluster 11     lecture:0.175 homework:0.091 course:0.085 slides:0.074 ocw:0.068 feb:0.062 \n",
      "==========================================================\n",
      "Cluster 12     model:0.149 nav:0.098 image:0.069 images:0.062 data:0.054 weights:0.053 \n",
      "==========================================================\n",
      "Cluster 13     play:0.118 domain:0.076 filesharefreak:0.074 buy:0.071 youtube:0.063 googleabout:0.063 \n",
      "==========================================================\n",
      "Cluster 14     reply:0.112 2014:0.088 2015:0.071 pm:0.069 march:0.060 2013:0.060 \n",
      "==========================================================\n",
      "Cluster 15     duration:0.378 views:0.312 loading:0.233 video:0.098 sign:0.096 queue:0.088 \n",
      "==========================================================\n",
      "Cluster 16     quantum:0.191 chapter:0.137 mechanics:0.064 physics:0.056 solution:0.054 qc:0.048 \n",
      "==========================================================\n",
      "Cluster 17     wolfram:0.663 mathematica:0.203 alpha:0.134 data:0.101 amp:0.067 language:0.058 \n",
      "==========================================================\n",
      "Cluster 18     pdf:0.049 css:0.029 download:0.027 html:0.025 file:0.019 org:0.018 \n",
      "==========================================================\n",
      "Cluster 19     redirecting:0.097 ashley:0.086 madison:0.084 frye:0.081 varvatos:0.079 men:0.074 \n",
      "==========================================================\n",
      "Cluster 20     bloomberg:0.151 actuarial:0.129 amp:0.125 soa:0.124 actuaries:0.077 wsj:0.075 \n",
      "==========================================================\n",
      "Cluster 21     windows:0.103 posts:0.098 mb:0.089 anki:0.082 bsod:0.074 fpga:0.071 \n",
      "==========================================================\n",
      "Cluster 22     gre:0.499 gmat:0.340 prep:0.138 test:0.129 tests:0.081 practice:0.078 \n",
      "==========================================================\n",
      "Cluster 23     learning:0.163 deep:0.143 neural:0.110 networks:0.109 network:0.065 convolutional:0.052 \n",
      "==========================================================\n",
      "Cluster 24     tensorflow:0.434 tf:0.124 learning:0.084 deep:0.078 magenta:0.073 neural:0.071 \n",
      "==========================================================\n"
     ]
    }
   ],
   "source": [
    "print_cluster_words(df, models_dict, word_map=indx_to_word, k=25, n_words=6)"
   ]
  },
  {
   "cell_type": "code",
   "execution_count": 270,
   "metadata": {
    "collapsed": false,
    "scrolled": true
   },
   "outputs": [
    {
     "name": "stdout",
     "output_type": "stream",
     "text": [
      "Cluster 0     theorem:0.326 integral:0.130 qed:0.125 integrals:0.122 calculus:0.096 derivative:0.092 \n",
      "\n",
      "* # Adventures in Analysis A place for proofs, examples, and topics I find interesting. Skip\n",
      "   to content * Home * About ## Mollification and the\n",
      "\n",
      "* | Theorem of the Day | | ---|---|---|--- | Home Resources Centre Gallery Shop Visitors' Bo\n",
      "  ok Acknowledgements | Other listings --- Alphabetical Theorem List Subject\n",
      "\n",
      "* * Skip to navigation (Press Enter) * Skip to main content (Press Enter) * Home * Threads *\n",
      "   Index * About * # Math Insight\n",
      "\n",
      "* Menu * Home * Articles * Calculus Guide * Contact * About * Newsletter * Blog * Feedback #\n",
      "   Intuition Cheatsheet ### Math is no\n",
      "\n",
      "* # User:LucasVB/Gallery From Wikipedia, the free encyclopedia &lt; User:LucasVB Jump to: na\n",
      "  vigation, search — Main | Talk | Junk | Gallery | Sandbox — ---\n",
      "==========================================================\n",
      "Cluster 1     data:0.087 science:0.039 learning:0.039 amp:0.026 python:0.026 learn:0.025 \n",
      "\n",
      "* Piotr Migdał - blog Projects Articles Publications Resume About Photos # Data science int\n",
      "  ro for math/phys background 15 Mar 2016 • Piotr Migdał • [data-science]\n",
      "\n",
      "* This page may be out of date. Save your draft before refreshing this page.Submit any pendi\n",
      "  ng changes before refreshing this page. Hide this message. Quora\n",
      "\n",
      "* Skip to content Features Explore Pricing This repository Sign in or Sign up * Watch 426 * \n",
      "  Star 6,270 * Fork 917 # hangtwenty/dive-into-machine-learning Code\n",
      "\n",
      "* # The Open Source Data Science Masters ## Curriculum for Data Science View on GitHub Downl\n",
      "  oad .zip Download .tar.gz created &amp; maintained by @clarecorthell, founding\n",
      "\n",
      "* Blog Home Dataquest.io Learn Data Science in Your Browser # How to actually learn data sci\n",
      "  ence Vik Paruchuri 14 Jul 2015 in guides Itâs an\n",
      "==========================================================\n",
      "Cluster 2     forex:0.380 trading:0.216 currency:0.086 trade:0.070 market:0.061 nfa:0.055 \n",
      "\n",
      "* * Learn How to Trade Forex * Sign In * Join Search for: Skip to content * Home * School * \n",
      "  Blogs * Forums *\n",
      "\n",
      "* * Topics What's New SEC Denies Winklevoss Bid to Launch Bitcoin ETFs in Surprise Upset Sea\n",
      "  rching for Value in a Hot Sector Topics * News\n",
      "\n",
      "* * Learn How to Trade Forex * Sign In * Join Search for: Skip to content * Home * School * \n",
      "  Blogs * Forums *\n",
      "\n",
      "* * FXIMPULSE * FOREX TRADING PLAN * FOREX TRADING SYSTEM * TECHNICAL ANALYSIS * FOREX TREND\n",
      "  S * SUPPORT AND RESISTNACE * JAPANESE CANDLESTICKS * TRENDLINES\n",
      "\n",
      "* Search * Join * Sign In * About Us * Contact Us * Expert Authors * Ask Chris Knight Home H\n",
      "  ome » Finance » Currency\n",
      "==========================================================\n",
      "Cluster 3     haskell:0.117 torrents:0.094 403:0.085 nginx:0.082 forbidden:0.080 codeword:0.075 \n",
      "\n",
      "* Skip to content Features Explore Pricing This repository Sign in or Sign up * Watch 97 * S\n",
      "  tar 2,165 * Fork 109 # caiorss/Functional-Programming Code\n",
      "\n",
      "* Toggle navigation * * Blog * Haskell * Devops * Consulting * Training * Contact # Nothing \n",
      "  :: Maybe Page ## 404 ### That page\n",
      "\n",
      "* # λ Bubble Pop! ## Or, Lambda The Ultimate Bubble Wrap ### An educational toy based on λ\n",
      "   Lessons by Jan Paul Posma and Steve\n",
      "\n",
      "* | | Hacker News new | comments | show | ask | jobs | submit | login ---|---|--- | | | Dyna\n",
      "  mic Memory Networks for\n",
      "\n",
      "* Toggle navigation colah's blog * Blog * About * Contact # Visual Information Theory Posted\n",
      "   on October 14, 2015 I love the feeling of having\n",
      "==========================================================\n",
      "Cluster 4     regex:0.111 character:0.096 rnn:0.081 np:0.079 regular:0.070 expressions:0.069 \n",
      "\n",
      "* * Get in touch * Projects * About # Will Forfang * Get in touch * Projects * About * Menu \n",
      "  # Using Artificial Intelligence\n",
      "\n",
      "* Andrej Karpathy blog About Hacker's guide to Neural Networks # The Unreasonable Effectiven\n",
      "  ess of Recurrent Neural Networks May 21, 2015 There’s something magical about Recurrent\n",
      "\n",
      "* Quick Start | Tutorial | Tools &amp; Languages | Examples | Reference | Book Reviews ---|-\n",
      "  --|---|---|---|--- | Easily create and understand regular expressions today. Compose\n",
      "\n",
      "* Dan's Tools regexpal.com ### Regex Pal * Development * HTML/JS/CSS Playground * Color Pick\n",
      "  er * CSS Fonts * Convert Files * .htaccess Generator * Javascript\n",
      "\n",
      "* # Math ∩ Programming ## # Navigation Skip to content * Home * Main Content * Primers * R\n",
      "  esearch * Program Gallery * Proof Gallery\n",
      "==========================================================\n",
      "Cluster 5     network:0.155 neural:0.153 layer:0.107 output:0.106 networks:0.091 memory:0.082 \n",
      "\n",
      "* Skip to content Features Explore Pricing This repository Sign in or Sign up * Watch 200 * \n",
      "  Star 3,680 * Fork 343 # cazala/synaptic Code\n",
      "\n",
      "* # å¤§ãã­ ml ã» design * archiveã * * * * * # Neural Network Evolution\n",
      "   Playground with Backprop NEAT May 7, 2016 ` GitHub\n",
      "\n",
      "* Toggle navigation colah's blog * Blog * About * Contact # Neural Networks, Manifolds, and \n",
      "  Topology Posted on April 6, 2014 topology, neural networks, deep\n",
      "\n",
      "* # J Alammar Explorations in touchable pixels and intelligent androids Blog About # A Visua\n",
      "  l and Interactive Guide to the Basics of Neural Networks ##\n",
      "\n",
      "* # Tinker With a Neural Network Right Here in Your Browser. Don’t Worry, You Can’t Brea\n",
      "  k It. We Promise. replay play_arrow pause skip_next Epoch Learning\n",
      "==========================================================\n",
      "Cluster 6     model:0.120 data:0.110 team:0.094 series:0.069 time:0.065 threshold:0.057 \n",
      "\n",
      "* We're hiring! | Blog Home * Blog Home * Learn more about Domino * * # Predicting winners o\n",
      "  f the Rugby World Cup data scienceR\n",
      "\n",
      "* ### Navigation * index * previous | * Time Series 0.2 documentation » ### Table Of Conten\n",
      "  ts * Using R for Time Series Analysis *\n",
      "\n",
      "* Learn R programming for data science * Home * Our Authors * Archives * Contribute * Free A\n",
      "  ccount * We publish R tutorials from scientists\n",
      "\n",
      "* * * Engineering * Algorithms * Algorithms Tour * Tour * Careers * Blog Engineering Algorit\n",
      "  hms Algorithms Tour Tour Careers Blog # Sorry ARIMA, but\n",
      "\n",
      "* * Home * Blog * Business Analytics * SAS * R * Python * Business Intelligence * Qlikview *\n",
      "   Web Analytics * Big data *\n",
      "==========================================================\n",
      "Cluster 7     mathematica:0.160 stack:0.145 vote:0.101 overflow:0.082 answer:0.081 answers:0.080 \n",
      "\n",
      "* Stack Overflow 1. Questions 2. Jobs 3. Documentation beta 4. Tags 5. Users ### current com\n",
      "  munity * help chat Stack Overflow * Meta Stack Overflow\n",
      "\n",
      "* ### current community * chat Mathematica * Mathematica Meta ### your communities Sign up o\n",
      "  r log in to customize your list. ### more stack exchange\n",
      "\n",
      "* ### current community * chat Cross Validated * Cross Validated Meta ### your communities S\n",
      "  ign up or log in to customize your list. ### more\n",
      "\n",
      "* ### current community * chat Mathematica * Mathematica Meta ### your communities Sign up o\n",
      "  r log in to customize your list. ### more stack exchange\n",
      "\n",
      "* Stack Overflow 1. Questions 2. Jobs 3. Documentation beta 4. Tags 5. Users ### current com\n",
      "  munity * help chat Stack Overflow * Meta Stack Overflow\n",
      "==========================================================\n",
      "Cluster 8     frac:0.211 theta:0.145 x_:0.101 gradient:0.082 sin:0.068 displaystyle:0.065 \n",
      "\n",
      "* (C) 2015-2016 Jacob Strom, Kalle Åstrom, and Tomas Akenine-Moller Forum Loading and build\n",
      "  ing chapter... # Chapter 1: Introduction * * * #### 1.1 Brief Note\n",
      "\n",
      "* \\\\( \\newcommand{\\P}{\\mathbb{P}} \\\\) \\\\( \\newcommand{\\bs}{\\boldsymbol} \\\\) 1. Random 2. 1\\.\n",
      "   Probability Spaces 3. 1 4. 2 5. 3 6. 4 7. 5 8. 6 9.\n",
      "\n",
      "* # koaning.io > Blog of a data scientist/developer > > about > > keyword bingo > > twitter \n",
      "  > > rss # An Introduction to\n",
      "\n",
      "* # Sufficient statistic From Wikipedia, the free encyclopedia Jump to: navigation, search B\n",
      "  iologist and statistician Ronald Fisher In statistics, a statistic is sufficient with respect\n",
      "\n",
      "* Ben Frederickson * Blog * GitHub * Twitter * RSS * Blog * * * ## An Interactive Tutorial o\n",
      "  n Numerical Optimization Numerical Optimization is\n",
      "==========================================================\n",
      "Cluster 9     theory:0.151 mathematics:0.082 category:0.075 knot:0.051 relation:0.050 book:0.047 \n",
      "\n",
      "* Skip to content Follow: RSS Monadically Speaking: Adventures in Programming Language Theor\n",
      "  y Benjamin's Adventures in Programming Language Theory Wonderland * Home * About * Announcements\n",
      "\n",
      "* * Home * About # Bartosz Milewski's Programming Cafe Concurrency, C++, Haskell, Category T\n",
      "  heory October 28, 2014 ## Category Theory for Programmers: The Preface Posted\n",
      "\n",
      "* # nLab relation between type theory and category theory Skip the Navigation Links | Home P\n",
      "  age | All Pages | Latest Revisions | Authors |\n",
      "\n",
      "* New Visitor? Start Here * Start Here * About * Books * Articles * Reading List * QSTrader \n",
      "  Toggle navigation * Start Here * About\n",
      "\n",
      "* The Lab Lunch Research blog of the Birmingham theory group Skip to content * Home &lt;- Tw\n",
      "  o kinds of mathematics Inventing a knot theory for\n",
      "==========================================================\n",
      "Cluster 10     algorithm:0.120 array:0.101 algorithms:0.066 accelerate:0.057 partition:0.047 flac:0.046 \n",
      "\n",
      "* Visualizing Algorithms June 26, 2014 Mike Bostock # Visualizing Algorithms > The power of \n",
      "  the unaided mind is highly overrated… The real powers come from\n",
      "\n",
      "* # A Gentle Introduction to Algorithm Complexity Analysis Dionysis \"dionyziz\" Zindros &lt;d\n",
      "  ionyziz@gmail.com&gt; * English * Ελληνικά * македонски * Español * Help translate ## Intro\n",
      "\n",
      "* Algomation * Search Algorithms * Create Algorithm * My Algorithms * Tutorials * Feedback *\n",
      "   Help * About Sign in or Register # Algomation ####\n",
      "\n",
      "* # Tech-Effigy ## Concepts made Simple Skip to content * Home * Business * Internet * Marke\n",
      "  t * Stock * Downloads * Dvd * Games\n",
      "\n",
      "* Skip to content Features Explore Pricing This repository Sign in or Sign up * Watch 231 * \n",
      "  Star 6,789 * Fork 265 # mxgmn/WaveFunctionCollapse Code\n",
      "==========================================================\n",
      "Cluster 11     homework:0.179 slides:0.116 course:0.099 learning:0.097 lecture:0.071 readings:0.056 \n",
      "\n",
      "* # CS 294: Deep Reinforcement Learning, Spring 2017 Instructors: Sergey Levine, John Schulm\n",
      "  an, Chelsea Finn --- Lectures: Mondays and Wednesdays, 9:00am-10:30am in 306 Soda Hall.\n",
      "\n",
      "* # Machine Learning ## 10-701/15-781, Spring 2011 ## Carnegie Mellon University ## Tom Mitc\n",
      "  hell | ---|--- | --- | Home | People | Lectures |\n",
      "\n",
      "* Machine Learning course - recorded at a live broadcast from Caltech # HOMEWORK The course \n",
      "  has 8 homework sets plus a Final, according to the\n",
      "\n",
      "* Computer Science 294 Practical Machine Learning (Fall 2009) Prof. Michael Jordan (`jordan-\n",
      "  AT-cs`) Lecture: Thursday 5-7pm, Soda 306 Office hours of the lecturer of the week:\n",
      "\n",
      "* Skip to main content University of Oxford Department of Computer Science Search for Search\n",
      "   Toggle Main Menu * Home * Admissions * Research * News\n",
      "==========================================================\n",
      "Cluster 12     model:0.199 image:0.092 weights:0.078 keras:0.071 images:0.067 data:0.066 \n",
      "\n",
      "* # The Keras Blog Keras is a Deep Learning library for Python, that is simple, modular, and\n",
      "   extensible. * Archives * Github * Documentation *\n",
      "\n",
      "* * Product * Plans * Docs * Blog * Log In * Get Started # The Simple + Practical Path to Ma\n",
      "  chine Learning Capability: Models\n",
      "\n",
      "* Skip to content Features Explore Pricing This repository Sign in or Sign up * Watch 96 * S\n",
      "  tar 1,485 * Fork 271 # fchollet/deep-learning-models Code\n",
      "\n",
      "* # Revolutions ## Daily news about using open source R for big data analysis, predictive mo\n",
      "  deling, data science, and visualization since 2008 « Edward Tufte\n",
      "\n",
      "* # Aaditya Prakash (Adi) Random musings of a deep learning grad student CV [PDF] Blog Notes\n",
      "   About # Visual Question Answering Demo in Python Notebook\n",
      "==========================================================\n",
      "Cluster 13     googleabout:0.198 searchlanguage:0.198 programsbusiness:0.198 youtube:0.173 gmail:0.133 zuckerman:0.124 \n",
      "\n",
      "* Search Images Maps Play YouTube News Gmail Drive More » Web History | Settings | Sign in \n",
      "  | | Advanced searchLanguage tools ---|---|--- Advertising ProgramsBusiness\n",
      "\n",
      "* Search Images Maps Play YouTube News Gmail Drive More » Web History | Settings | Sign in \n",
      "  | | Advanced searchLanguage tools ---|---|--- Advertising ProgramsBusiness\n",
      "\n",
      "* Search Images Maps Play YouTube News Gmail Drive More » Web History | Settings | Sign in \n",
      "  | | Advanced searchLanguage tools ---|---|--- Advertising ProgramsBusiness\n",
      "\n",
      "* Search Images Maps Play YouTube News Gmail Drive More » Sign in ## Books books.google.com\n",
      "   - The two volume set LNCS 4351 and LNCS 4352\n",
      "\n",
      "* youtube-dl | Download videos from YouTube (and more sites) ---|--- youtube-dl is a command\n",
      "  -line program to download videos from YouTube.com and a few more sites.\n",
      "==========================================================\n",
      "Cluster 14     reply:0.136 2014:0.112 pm:0.085 2015:0.085 says:0.078 2013:0.071 \n",
      "\n",
      "* The Scrapinghub Blog # The Scrapinghub Blog ## Turn Web Content Into Useful Data Announcin\n",
      "  g Portia, the Open Source Visual Web Scraper! # Announcing Portia,\n",
      "\n",
      "* Homotopy Type Theory Skip to content * Home * Blog * Code * Events * Links * References * \n",
      "  Wiki * The Book # The\n",
      "\n",
      "* # Programming Praxis A collection of etudes, updated weekly, for the education and enjoyme\n",
      "  nt of the savvy programmer * Home * About * HOWTO: Posting\n",
      "\n",
      "* Toggle navigation Gaurav Trivedi * About Me * Contact * Twitter # Quoc Le's Lectures on De\n",
      "  ep Learning July 10, 2014 * Posted in Machine\n",
      "\n",
      "* Toggle navigation Gaurav Trivedi * About Me * Contact * Twitter # Quoc Le's Lectures on De\n",
      "  ep Learning July 10, 2014 * Posted in Machine\n",
      "==========================================================\n",
      "Cluster 15     duration:0.387 views:0.321 loading:0.263 video:0.114 sign:0.110 queue:0.096 \n",
      "\n",
      "* Skip navigation Sign in Search Loading... Close Yeah, keep it Undo Close # This video is u\n",
      "  navailable. ### Watch Queue ### Queue Watch QueueQueue *\n",
      "\n",
      "* Skip navigation Sign in Search Loading... Close Yeah, keep it Undo Close # This video is u\n",
      "  navailable. ### Watch Queue ### Queue Watch QueueQueue *\n",
      "\n",
      "* Skip navigation Sign in Search Loading... Close Yeah, keep it Undo Close # This video is u\n",
      "  navailable. ### Watch Queue ### Queue Watch QueueQueue *\n",
      "\n",
      "* Skip navigation Sign in Search Loading... Close Yeah, keep it Undo Close # This video is u\n",
      "  navailable. ### Watch Queue ### Queue Watch QueueQueue *\n",
      "\n",
      "* Skip navigation Sign in Search Loading... Close Yeah, keep it Undo Close # This video is u\n",
      "  navailable. ### Watch Queue ### Queue Watch QueueQueue *\n",
      "==========================================================\n",
      "Cluster 16     quantum:0.289 physics:0.081 qc:0.080 mechanics:0.076 solution:0.062 challenge:0.058 \n",
      "\n",
      "* # Course Information for Physics 219/Computer Science 219 Quantum Computation (Formerly Ph\n",
      "  ysics 229) ### John Preskill ## Go to the home page of Ph219/CS219 for\n",
      "\n",
      "* | | --- the C library for quantum computing and quantum simulation | | | | | Home --- News\n",
      "   Documentation Downloads Bibliography Mailing List\n",
      "\n",
      "* # Quantum Frontiers ## A blog by the Institute for Quantum Information and Matter @ Caltec\n",
      "  h Search ### Main menu Skip to primary content *\n",
      "\n",
      "* Homepage The Physics arXiv Blog Follow Sign in / Sign up The Physics arXiv BlogBlockedUnbl\n",
      "  ockFollowFollowing An alternative view of the best new ideas in science.\n",
      "\n",
      "* # Observations on Quantum Computing &amp; Physics ## Menu Skip to content * Lost Papers * \n",
      "  Planck’s Law and Light Quantum Hypothesis * Quantum Theory\n",
      "==========================================================\n",
      "Cluster 17     wolfram:0.663 mathematica:0.203 alpha:0.134 data:0.101 amp:0.067 language:0.058 \n",
      "\n",
      "* * WolframAlpha.com * WolframCloud.com * å ¨é¨ç½ç«ä¸å ¬å ±èµæº�\n",
      "  �... * äº§åä¸æå¡ * * Mathematica * Mathematica Online * Development Platform * Programmin\n",
      "\n",
      "* * WolframAlpha.com * WolframCloud.com * All Sites &amp; Public Resources... # Products &am\n",
      "  p; Services * Mathematica * Mathematica Online * Development Platform * Programming Lab\n",
      "\n",
      "* * WolframAlpha.com * WolframCloud.com * All Sites &amp; Public Resources... * Products &am\n",
      "  p; Services * * Mathematica * Mathematica Online * Development Platform * Programming\n",
      "\n",
      "* Uh oh! Wolfram|Alpha doesnât run without JavaScript! Please enable JavaScript. If you\n",
      "   donât know how, you can find instructions here. Once youâve done that, refresh\n",
      "\n",
      "* * WolframAlpha.com * WolframCloud.com * All Sites &amp; Public Resources... * Products &am\n",
      "  p; Services * * Mathematica * Mathematica Online * Development Platform * Programming\n",
      "==========================================================\n",
      "Cluster 18     pdf:0.136 sleep:0.045 programming:0.045 html:0.042 python:0.039 review:0.034 \n",
      "\n",
      "* Skip to content Features Explore Pricing This repository Sign in or Sign up * Watch 5,841 \n",
      "  * Star 79,257 * Fork 19,829 # vhf/free-programming-books Code\n",
      "\n",
      "* | Looking for PDF Programming API? PDF SDK | PDF-to-Word API | PDF-to-HTML API | PDF-Conve\n",
      "  rsion API for LINUX --- | FREE! PDF to Word\n",
      "\n",
      "* # Introduction to Information Retrieval This is the companion website for the following bo\n",
      "  ok. Christopher D. Manning, Prabhakar Raghavan and Hinrich Schutze, Introduction to Information\n",
      "\n",
      "* # math.caltech.edu - /~nets/ * * * [To Parent Directory] 5/7/2013 8:54 AM 195153 10.1.1.83\n",
      "  .1483.pdf 9/18/2016 8:36 AM 340084 16schedule.pdf 9/25/2016 8:56 AM 32000 2016ps1.pdf\n",
      "\n",
      "* | A Computational Introduction to Number Theory and Algebra A book introducing basic conce\n",
      "  pts from computational number theory and algebra, including all the necessary mathematical\n",
      "==========================================================\n",
      "Cluster 19     ashley:0.118 madison:0.116 varvatos:0.110 men:0.096 sneaker:0.086 women:0.068 \n",
      "\n",
      "* * * gizmodo * Deadspin * Gizmodo * Jalopnik * Jezebel * Kotaku * Lifehacker * The Root * V\n",
      "  ideo * Sploid * Paleofuture *\n",
      "\n",
      "* * * gizmodo * Deadspin * Gizmodo * Jalopnik * Jezebel * Kotaku * Lifehacker * The Root * V\n",
      "  ideo * Sploid * Paleofuture *\n",
      "\n",
      "* Search Images Maps Play YouTube News Gmail Drive More » Web History | Settings | Sign in \n",
      "  | | | ---|---|---|--- # | | |\n",
      "\n",
      "* * * * # Thoughts, stories and ideas. * Home - Blog * BinaryEdge Monday ### 31 August 2015 \n",
      "  ## Ashley Madison - A final\n",
      "\n",
      "* Search Images Maps Play YouTube News Gmail Drive More » Web History | Settings | Sign in \n",
      "  | | | ---|---|---|--- # | | |\n",
      "==========================================================\n",
      "Cluster 20     bloomberg:0.201 actuarial:0.172 soa:0.166 amp:0.120 actuaries:0.103 exam:0.086 \n",
      "\n",
      "* * * Calendar * Actuarial Directory * Search by: Last Name First Name Company Name City Adv\n",
      "  anced Search Update Profile * My SOA * Username\n",
      "\n",
      "* Announcement: SOA releases January 2017 Exam P passing candidate numbers. Toggle navigatio\n",
      "  n Edition * Member * Candidate &amp; Student * | * Asia * Canada\n",
      "\n",
      "* Bloomberg the Company &amp; Its ProductsBloomberg Anywhere Remote LoginBloomberg Anywhere \n",
      "  LoginBloomberg Terminal Demo Request * ## Bloomberg Connecting decision makers to a dynamic network of\n",
      "\n",
      "* For more local news from India, visit Bloombergquint.com Bloomberg the Company &amp; Its P\n",
      "  roductsBloomberg Anywhere Remote LoginBloomberg Anywhere LoginBloomberg Terminal Demo Request * ## Bloomberg\n",
      "\n",
      "* Support Start Learning Sign In Exams * P * FM * MFE * MLC * C * S * CAS 5 * GHC * GHA\n",
      "  \n",
      "==========================================================\n",
      "Cluster 21     windows:0.143 posts:0.136 anki:0.117 bsod:0.106 fpga:0.099 x264:0.089 \n",
      "\n",
      "* | | | ---|--- | Join Forum | Login | Today's Posts | Tutorials | Windows 10 Forum | Window\n",
      "  s 8 Forum ---|--- Welcome to\n",
      "\n",
      "* | | | ---|--- | Join Forum | Login | Today's Posts | Tutorials | Windows 10 Forum | Window\n",
      "  s 8 Forum ---|--- Welcome to\n",
      "\n",
      "* * TechNet * Products * IT Resources * Downloads * Training * Support ##### Products * Wind\n",
      "  ows * Windows Server * System Center * Microsoft\n",
      "\n",
      "* Arnab Nandi blog work contact ## So I Suck At 24: Automating Card Games Using OpenCV and P\n",
      "  ython Disclaimer: My area of research is databases.\n",
      "\n",
      "* * Home * Docs * Support * AnkiWeb Friendly, intelligent flash cards. Remembering things ju\n",
      "  st became much easier. Download * * * Remember Anything From\n",
      "==========================================================\n",
      "Cluster 22     gre:0.745 test:0.186 practice:0.115 prep:0.109 gmat:0.099 barron:0.091 \n",
      "not enough docs in group\n",
      "==========================================================\n",
      "Cluster 23     learning:0.085 network:0.076 layer:0.074 deep:0.074 image:0.069 feature:0.064 \n",
      "\n",
      "* ACCELERATED COMPUTING * Cuda zone menu * Downloads * Training * Ecosystem * Forums * Searc\n",
      "  h CUDA Zone * Register Now * Login # ###\n",
      "\n",
      "* Skip to content # the data science blog ## machine learning, deep learning, nlp, data scie\n",
      "  nce Menu * About * The Data Science Blog *\n",
      "\n",
      "* Eugenio Culurciello's blog About # Neural Network Architectures Jun 4, 2016 ### Note: upda\n",
      "  ted on 2016-10-25 Deep neural networks and Deep Learning are powerful and\n",
      "\n",
      "* # KDnuggets Subscribe to KDnuggets News | | Contact * SOFTWARE * NEWS * Top stories * Opin\n",
      "  ions * Tutorials * JOBS * Companies *\n",
      "\n",
      "* ACCELERATED COMPUTING * Cuda zone menu * Downloads * Training * Ecosystem * Forums * Searc\n",
      "  h CUDA Zone * Register Now * Login # ###\n",
      "==========================================================\n",
      "Cluster 24     tensorflow:0.434 tf:0.124 learning:0.084 deep:0.078 magenta:0.073 neural:0.071 \n",
      "\n",
      "* Skip to content Features Explore Pricing This repository Sign in or Sign up * Watch 531 * \n",
      "  Star 6,619 * Fork 915 # jtoy/awesome-tensorflow Code\n",
      "\n",
      "* Skip to content Features Explore Pricing This repository Sign in or Sign up * Watch 531 * \n",
      "  Star 6,619 * Fork 915 # jtoy/awesome-tensorflow Code\n",
      "\n",
      "* ## Hacker Lists Menu * Hacking * Programming Home Programming The Ultimate List of TensorF\n",
      "  low Resources: Books, Tutorials, Libraries and More # The Ultimate List\n",
      "\n",
      "* TensorFlow * Install * Develop * API r1.0 * Deploy * Extend * Resources * Versions GitHub \n",
      "  An open-source software library for Machine Intelligence Get\n",
      "\n",
      "* # O'Reilly Ideas Learning Events Shop Search search Feedback Loading... Log in Log out con\n",
      "  figure Close Menu Open Menu ### On our radar AI Business\n",
      "==========================================================\n",
      "Cluster 25     css:0.190 nav:0.163 text:0.098 font:0.088 div:0.082 utf8:0.074 \n",
      "\n",
      "* <!-- #navbar #nav-shop .nav-a:hover { color: #ff9900; text-decoration: underline; } #navba\n",
      "  r #nav-search .nav-search-facade, #navbar #nav-tools .nav- icon, #navbar #nav-shop .nav-icon, #navbar #nav-sub\n",
      "\n",
      "* <!-- #navbar #nav-shop .nav-a:hover { color: #ff9900; text-decoration: underline; } #navba\n",
      "  r #nav-search .nav-search-facade, #navbar #nav-tools .nav- icon, #navbar #nav-shop .nav-icon, #navbar #nav-sub\n",
      "\n",
      "* <!-- #navbar #nav-shop .nav-a:hover { color: #ff9900; text-decoration: underline; } #navba\n",
      "  r #nav-search .nav-search-facade, #navbar #nav-tools .nav- icon, #navbar #nav-shop .nav-icon, #navbar #nav-sub\n",
      "\n",
      "* <!-- #navbar #nav-shop .nav-a:hover { color: #ff9900; text-decoration: underline; } #navba\n",
      "  r #nav-search .nav-search-facade, #navbar #nav-tools .nav- icon, #navbar #nav-shop .nav-icon, #navbar #nav-sub\n",
      "\n",
      "* * Home * News October 23, 2016 - New visualization: Date relative mode * Compare browsers \n",
      "  * Import stats * Index * About Can I\n",
      "==========================================================\n",
      "Cluster 26     bayesian:0.172 inference:0.078 models:0.070 probabilistic:0.063 pymc:0.048 model:0.043 \n",
      "\n",
      "* Skip to content Features Explore Pricing This repository Sign in or Sign up * Watch 1,060 \n",
      "  * Star 11,534 * Fork 3,372 # CamDavidsonPilon/Probabilistic-Programming-and-Bayesian-Methods-for-Hackers Code\n",
      "\n",
      "* Skip to content Features Explore Pricing This repository Sign in or Sign up * Watch 120 * \n",
      "  Star 1,607 * Fork 196 # markdregan/Bayesian-Modelling-in-Python Code\n",
      "\n",
      "* View on GitHub # Probabilistic Programming & Bayesian Methods for Hackers Download this pr\n",
      "  oject as a .zip file Download this project as a tar.gz file\n",
      "\n",
      "* Fast Forward Labs is a machine intelligence research company. Blog Website ##### Fast Forw\n",
      "  ard Labs is a machine intelligence research company. #### Post # The\n",
      "\n",
      "* ### current community * chat Cross Validated * Cross Validated Meta ### your communities S\n",
      "  ign up or log in to customize your list. ### more\n",
      "==========================================================\n",
      "Cluster 27     learning:0.165 neural:0.160 deep:0.151 networks:0.139 recurrent:0.060 models:0.051 \n",
      "\n",
      "* A Guide to Deep Learning by YerevaNN # A Guide to Deep Learning by Deep learning is a fast\n",
      "  -changing field at the intersection of computer\n",
      "\n",
      "* ## Neural Networks and Deep Learning Neural Networks and Deep Learning What this book is a\n",
      "  bout On the exercises and problems Using neural nets to\n",
      "\n",
      "* Deep Musings Deep learning Reading List # Deep learning Reading List Following is a growin\n",
      "  g list of some of the materials i found on the\n",
      "\n",
      "* Toggle navigation Toggle navigation Login Year (2016) * 2017 * * 2016 * * 2015 * * 2014 * \n",
      "  * 2013 * * 2012 *\n",
      "\n",
      "* Skip to content Features Explore Pricing This repository Sign in or Sign up * Watch 556 * \n",
      "  Star 6,459 * Fork 724 # oxford-cs-deepnlp-2017/lectures Code\n",
      "==========================================================\n",
      "Cluster 28     play:0.489 duration:0.188 thecatsters:0.161 views:0.152 minutes:0.125 ago:0.122 \n",
      "\n",
      "* Skip navigation Sign in Search * ## TheCatsters * Videos * Playlists * Channels * Discussi\n",
      "  on * About * * Home * Trending * History\n",
      "\n",
      "* Skip navigation Sign in Search * OxfordQuantumVideo * ## Videos * Playlists * Channels * D\n",
      "  iscussion * About * * Home * Trending * History\n",
      "\n",
      "* Skip navigation Sign in Search * ## nptelhrd * Videos * Playlists * Channels * Discussion \n",
      "  * About * * Home * Trending * History\n",
      "\n",
      "* Skip navigation Sign in Search * TheCatsters * Videos * Playlists * Channels * Discussion \n",
      "  * About * * Home * Trending * History *\n",
      "\n",
      "* Skip navigation Sign in Search * Stanford * Videos * Playlists * Channels * About * * Home\n",
      "   * Trending * History * Get YouTube\n",
      "==========================================================\n",
      "Cluster 29     3d:0.027 aws:0.023 01:0.019 whatwg:0.018 mo:0.017 mathematica:0.017 \n",
      "\n",
      "* \n",
      "  \n",
      "\n",
      "* \n",
      "  \n",
      "\n",
      "* \n",
      "  \n",
      "\n",
      "* \n",
      "  \n",
      "\n",
      "* \n",
      "  \n",
      "==========================================================\n",
      "Cluster 30     ocw:0.298 courses:0.212 mit:0.204 lecture:0.165 opencourseware:0.102 course:0.066 \n",
      "\n",
      "* Subscribe to the OCW Newsletter | ---|--- Help| Contact Us * * Find Courses Find courses b\n",
      "  y: * Topic * MIT Course Number * Department\n",
      "\n",
      "* Subscribe to the OCW Newsletter | ---|--- Help| Contact Us * * Find Courses Find courses b\n",
      "  y: * Topic * MIT Course Number * Department\n",
      "\n",
      "* Subscribe to the OCW Newsletter | ---|--- Help| Contact Us * * Find Courses Find courses b\n",
      "  y: * Topic * MIT Course Number * Department\n",
      "\n",
      "* Subscribe to the OCW Newsletter | ---|--- Help| Contact Us * * Find Courses Find courses b\n",
      "  y: * Topic * MIT Course Number * Department\n",
      "\n",
      "* Subscribe to the OCW Newsletter | ---|--- Help| Contact Us * * Find Courses Find courses b\n",
      "  y: * Topic * MIT Course Number * Department\n",
      "==========================================================\n",
      "Cluster 31     ago:0.352 days:0.245 comments:0.103 com:0.103 hours:0.102 points:0.100 \n",
      "\n",
      "* | | DataTaunew | comments | leaders | submit| login ---|---|--- | 1.| | Cool Datasets (coo\n",
      "  ldatasets.com) ---|---|--- | 6 points by ata_aman 1 day\n",
      "\n",
      "* | | Hacker News new | comments | show | ask | jobs | submit | login ---|---|--- | | | Data\n",
      "   Science: CSCI E-109\n",
      "\n",
      "* | | Hacker News new | comments | show | ask | jobs | submit | login ---|---|--- | 1. | | S\n",
      "  EC Rejects Rule\n",
      "\n",
      "* | | Hacker News new | comments | show | ask | jobs | submit | login ---|---|--- | 1. | | S\n",
      "  EC Rejects Rule\n",
      "\n",
      "* | | Hacker News new | comments | show | ask | jobs | submit | login ---|---|--- | | | Lear\n",
      "  n to Code by\n",
      "==========================================================\n",
      "Cluster 32     reviews:0.202 frye:0.113 texas:0.107 chicago:0.099 gz:0.094 norfolk:0.093 \n",
      "\n",
      "* * SNAP for C++ * SNAP C++ Main Page * SNAP C++ Download * SNAP C++ Documentation * SNAP fo\n",
      "  r Python * Snap.py Python Main\n",
      "\n",
      "* * * Home * Papers * Slides * CV * About # Predicting what user reviews are about with LDA \n",
      "  and gensim I was rather\n",
      "\n",
      "* ## Deceptive Opinion Spam Corpus v1.4 ## Download ### Option 1 Complete the form below: Na\n",
      "  me: Institution: E-mail: ### Option 2 ## Overview This corpus\n",
      "\n",
      "* Change City Menu * Home * FAQ * Resources * Show Support * Partners * Check My Business * \n",
      "  Check My Business # Let's support\n",
      "\n",
      "* Search Images Maps Play YouTube News Gmail Drive More » Web History | Settings | Sign in \n",
      "  | | | ---|---|---|--- # | | |\n",
      "==========================================================\n",
      "Cluster 33     redirecting:0.102 accesskey:0.084 ajax:0.083 url:0.068 search:0.062 bing:0.059 \n",
      "\n",
      "* * * Sections * SEO * SEM * Mobile * Local * Retail * Google * Bing * Social * Home * * Sub\n",
      "  mit *\n",
      "\n",
      "* * Google Search * Webmasters * AJAX Crawling (Deprecated) list All Products Sign in * Home\n",
      "   * Guides * Support * Home * Guides *\n",
      "\n",
      "* ## Webmaster Central Blog Official news on crawling and indexing sites for the Google inde\n",
      "  x ## A spider's view of Web 2.0 Tuesday, November 06,\n",
      "\n",
      "* Run (Accesskey R) Save (Accesskey S) Download Fresh URL Open Local Reset (Accesskey X) Doc\n",
      "  s Demos Viz Mode CodeSkulptor was built by Scott Rixner and\n",
      "\n",
      "* Run (Accesskey R) Save (Accesskey S) Download Fresh URL Open Local Reset (Accesskey X) Doc\n",
      "  s Demos Viz Mode CodeSkulptor was built by Scott Rixner and\n",
      "==========================================================\n",
      "Cluster 34     ago:0.318 days:0.313 like:0.058 just:0.053 people:0.045 don:0.044 \n",
      "\n",
      "* | | Hacker News new | comments | show | ask | jobs | submit | login ---|---|--- | | | Some\n",
      "   Reflections on Being\n",
      "\n",
      "* | | Hacker News new | comments | show | ask | jobs | submit | login ---|---|--- | | | Ask \n",
      "  HN: Is there\n",
      "\n",
      "* | | Hacker News new | comments | show | ask | jobs | submit | login ---|---|--- | | | Show\n",
      "   HN: Magnetissimo –\n",
      "\n",
      "* | | Hacker News new | comments | show | ask | jobs | submit | login ---|---|--- | | | All \n",
      "  the best advice\n",
      "\n",
      "* | | Hacker News new | comments | show | ask | jobs | submit | login ---|---|--- | | | Anno\n",
      "  uncing SyntaxNet: The World’s\n",
      "==========================================================\n",
      "Cluster 35     chapter:0.340 book:0.112 singular:0.064 vectors:0.059 matrix:0.058 linear:0.055 \n",
      "\n",
      "* * Home * About * Contact * Forum ### immersivemath This will be replaced with browser widt\n",
      "  h stuff! # immersive linear algebra by J. StrÃ¶m,\n",
      "\n",
      "* Elementary Calculus # Elementary Calculus: An Infinitesimal Approach ## On-line Edition. C\n",
      "  opyright © 2000 by H. Jerome Keisler, revised March 2017. ### This is a\n",
      "\n",
      "* # Pdf Files of Applied Analysis by John Hunter and Bruno Nachtergaele Updated July 21, 200\n",
      "  5. We welcome your comments on the text. Please send\n",
      "\n",
      "* # THE NATURE OF CODE ## by Daniel Shiffman Buy this book in print Buy this book as PDF * W\n",
      "  elcome * Acknowledgments * Dedication\n",
      "\n",
      "* # A Programmer's Guide to Data Mining # The Ancient Art of the Numerati Chapters 1: Introd\n",
      "  uction 2: Recommendation systems 3: Item-based filtering 4: Classification\n",
      "==========================================================\n",
      "Cluster 36     rates:0.086 currency:0.083 dollar:0.071 exchange:0.069 wsj:0.065 euro:0.061 \n",
      "\n",
      "* skip to main navigation skip to secondary navigation skip to content What's New * What's N\n",
      "  ext * Site Map * A-Z Index * Careers *\n",
      "\n",
      "* <![endif]--> DOW JONES, A NEWS CORP COMPANY News Corp is a network of leading companies in\n",
      "   the worlds of diversified media, news, education, and information\n",
      "\n",
      "* Banking Supervision English Menu * Follow us * * * * * * * About * Organisation * ECB, ESC\n",
      "  B and the Eurosystem * ECB\n",
      "\n",
      "* <![endif]--> DOW JONES, A NEWS CORP COMPANY News Corp is a network of leading companies in\n",
      "   the worlds of diversified media, news, education, and information\n",
      "\n",
      "* X Edition: United States ## * * Business * Business Home * Legal * Deals * Aerospace & Def\n",
      "  ense * Finance * Autos * Reuters\n",
      "==========================================================\n",
      "Cluster 37     cs:0.290 arxiv:0.214 gmt:0.121 lg:0.109 mathjax:0.109 authors:0.104 \n",
      "\n",
      "* Cornell University Library We gratefully acknowledge support from the Simons Foundation an\n",
      "  d member institutions # arXiv.org &gt; cs &gt; arXiv:1603.01417 All papers Titles Authors Abstracts\n",
      "\n",
      "* Cornell University Library We gratefully acknowledge support from the Simons Foundation an\n",
      "  d member institutions # arXiv.org &gt; cs &gt; arXiv:1603.02754 All papers Titles Authors Abstracts\n",
      "\n",
      "* Cornell University Library We gratefully acknowledge support from the Simons Foundation an\n",
      "  d member institutions # arXiv.org &gt; cs &gt; arXiv:1410.5401 All papers Titles Authors Abstracts\n",
      "\n",
      "* Cornell University Library We gratefully acknowledge support from the Simons Foundation an\n",
      "  d member institutions # arXiv.org &gt; cs &gt; arXiv:1603.05279 All papers Titles Authors Abstracts\n",
      "\n",
      "* Cornell University Library We gratefully acknowledge support from the Simons Foundation an\n",
      "  d member institutions # arXiv.org &gt; cs &gt; arXiv:1609.05521 All papers Titles Authors Abstracts\n",
      "==========================================================\n",
      "Cluster 38     js:0.320 html5:0.151 processing:0.107 script:0.104 mozilla:0.094 drag:0.087 \n",
      "\n",
      "* a port of the Processing Visualization Language * home * download * reference * exhibition\n",
      "   * learning * articles * community * blog view source\n",
      "\n",
      "* Skip to content Features Explore Pricing This repository Sign in or Sign up * Watch 75 * S\n",
      "  tar 2,360 * Fork 519 # madrobby/scriptaculous Code\n",
      "\n",
      "* Skip Navigation # User Agent Man ## Discoveries of a Client Side Web Developer * Home * Ab\n",
      "  out * Current Projects * Development Tools *\n",
      "\n",
      "* ## Adil Moujahid Follow @AdilMouja ##### Published Sat 13 August 2016 &lt;-Home # Interact\n",
      "  ive Data Visualization of Geospatial Data using D3.js, DC.js, Leaflet.js and Python\n",
      "\n",
      "* Skip to content # Brendan Eich Menu * Home * Presentations ## Posts Posted on February 21,\n",
      "   2017 ## Rehosted Many thanks to Pressable for\n",
      "==========================================================\n",
      "Cluster 39     lecture:0.178 video:0.135 midterm:0.058 feb:0.051 march:0.043 friday:0.040 \n",
      "\n",
      "* # Statistical Machine Learning ## 10-702/36-702, Spring 2016 | LECTURES | Date and Time: T\n",
      "  uesday and Thursday, 1:30 - 2:50 pm Location: HH B103 ###\n",
      "\n",
      "* UO Home | Dept Index # Oregon Programming Languages Summer School -- July 16-28, 2012 # Lo\n",
      "  gic, Languages, Compilation, and Verification * Speakers * Organizers\n",
      "\n",
      "* Skip to content Features Explore Pricing This repository Sign in or Sign up * Watch 2,301 \n",
      "  * Star 37,008 * Fork 8,196 # jwasham/coding-interview-university Code\n",
      "\n",
      "* Â * Â Â UCL Course on RL Â Advanced TopicsÂ 2015 (COMPM050/COMPGI13) Reinforcement Le\n",
      "  arning Contact: d.silver@cs.ucl.ac.uk Video-lectures available here Lecture 1: Introduction to Reinforcement\n",
      "\n",
      "* # CS 20SI: Tensorflow for Deep Learning Research ## Schedule and Syllabus Unless otherwise\n",
      "   specified the course lectures and meeting times are: Wednesday, Friday 3:30-4:20\n",
      "==========================================================\n",
      "Cluster 40     oct:0.145 pdf:0.134 tex:0.113 ch:0.094 added:0.093 files:0.082 \n",
      "\n",
      "* Skip to content Features Explore Pricing This repository Sign in or Sign up * Watch 141 * \n",
      "  Star 300 * Fork 615 # bcaffo/Caffo-Coursera Code\n",
      "\n",
      "* Skip to content Features Explore Pricing This repository Sign in or Sign up * Watch 18 * S\n",
      "  tar 186 * Fork 8 # uncomplicate/bayadera Code\n",
      "\n",
      "* > ## Using the LaTeX Resume Templates > > A group of resume templates, originally designed\n",
      "   by the Rensselaer Career Development Center, are available in\n",
      "\n",
      "* ## Open Source Blog News about Google's open source student programs and software releases\n",
      "   ## CausalImpact: A new open-source package for estimating causal effects in\n",
      "\n",
      "* # Information Retrieval Systems CSCI 5417-001, Fall 2011 ## Site Navigation[Skip] * Home P\n",
      "  age * Class News * Schedule * Assignments * Textbook * Grading\n",
      "==========================================================\n",
      "Cluster 41     characters:0.264 filesharefreak:0.233 affiliates:0.177 sure:0.174 image:0.173 accepting:0.166 \n",
      "\n",
      "* #### Enter the characters you see below Sorry, we just need to make sure you're not a robo\n",
      "  t. For best results, please make sure your\n",
      "\n",
      "* #### Enter the characters you see below Sorry, we just need to make sure you're not a robo\n",
      "  t. For best results, please make sure your\n",
      "\n",
      "* #### Enter the characters you see below Sorry, we just need to make sure you're not a robo\n",
      "  t. For best results, please make sure your\n",
      "\n",
      "* #### Enter the characters you see below Sorry, we just need to make sure you're not a robo\n",
      "  t. For best results, please make sure your\n",
      "\n",
      "* For search results please CLICK HERE. Buy this domain. ### filesharefreak.com Privacy Poli\n",
      "  cy\n",
      "==========================================================\n",
      "Cluster 42     haskell:0.158 monad:0.125 monads:0.104 type:0.102 instance:0.080 fmap:0.060 \n",
      "\n",
      "* Menu * Basics * Cabal * Stack * Flags * Hackage * GHCi * Editor Integration * Bottoms * Ex\n",
      "  haustiveness * Debugger * Stack Traces\n",
      "\n",
      "* Menu * Basics * Cabal * Stack * Flags * Hackage * GHCi * Editor Integration * Bottoms * Ex\n",
      "  haustiveness * Debugger * Stack Traces\n",
      "\n",
      "* ? LiveJournal * Find more * Communities * RSS Reader * Shop * Help * Login * * * Login * C\n",
      "  REATE BLOG Join *\n",
      "\n",
      "* # A Neighborhood of Infinity ## Monday, August 07, 2006 ### You Could Have Invented Monads\n",
      "  ! (And Maybe You Already Have.) If you hadn't guessed,\n",
      "\n",
      "* # Haskell for all ## Tuesday, March 25, 2014 ### Introductions to advanced Haskell topics \n",
      "  Many people bemoan the sharp divide between experts and beginning\n",
      "==========================================================\n",
      "Cluster 43     gmat:0.583 prep:0.184 mba:0.139 math:0.127 amp:0.115 source:0.096 \n",
      "not enough docs in group\n",
      "==========================================================\n",
      "Cluster 44     trading:0.085 market:0.068 strategy:0.068 cftc:0.053 time:0.048 strategies:0.043 \n",
      "\n",
      "* skip to main | skip to sidebar # Quantitative Trading Quantitative investment and trading \n",
      "  ideas, research, and analysis. ## Friday, March 03, 2017 ### More\n",
      "\n",
      "* Homepage Sign in / Sign up Gabriel WeinbergBlockedUnblockFollowFollowing CEO &amp; Founder\n",
      "  , DuckDuckGo. Co-author, Traction. I want to publish zines and rage against machines. Jul 5,\n",
      "\n",
      "* Homepage Sign in / Sign up Gabriel WeinbergBlockedUnblockFollowFollowing CEO &amp; Founder\n",
      "  , DuckDuckGo. Co-author, Traction. I want to publish zines and rage against machines. Jul 5,\n",
      "\n",
      "* New Visitor? Start Here * Start Here * About * Books * Articles * Reading List * QSTrader \n",
      "  Toggle navigation * Start Here * About\n",
      "\n",
      "* * Home * Resume * Contact * Blog * * Home * Resume * Contact * Blog * Previous ## 52 Conce\n",
      "  pts To Add To\n",
      "==========================================================\n"
     ]
    }
   ],
   "source": [
    "print_cluster_words(df, models_dict, indx_to_word, 45, 6, display_content=True)"
   ]
  },
  {
   "cell_type": "markdown",
   "metadata": {},
   "source": [
    "With a cluster count of 45, many of the cluster are pure in content.  However, there are some cluster which have similar content but are split into different clusters."
   ]
  },
  {
   "cell_type": "markdown",
   "metadata": {},
   "source": [
    "## LDA"
   ]
  },
  {
   "cell_type": "markdown",
   "metadata": {},
   "source": [
    "Not all topics have a clear theme\n",
    "Things to try:\n",
    "try setting max_features in cv (this seemed to help)\n",
    "use graphlab\n",
    "modify alpha and beta in LDA\n",
    "reduce the number of topics\n",
    "*there was something about using k-means (elbow plot to initalize other algos)"
   ]
  },
  {
   "cell_type": "code",
   "execution_count": null,
   "metadata": {
    "collapsed": false
   },
   "outputs": [],
   "source": [
    "cv = CountVectorizer(stop_words='english', min_df=2, max_df=.95)"
   ]
  },
  {
   "cell_type": "code",
   "execution_count": null,
   "metadata": {
    "collapsed": true
   },
   "outputs": [],
   "source": [
    "cv2 = CountVectorizer(stop_words='english', min_df=2, max_df=.95, max_features=10000)"
   ]
  },
  {
   "cell_type": "code",
   "execution_count": null,
   "metadata": {
    "collapsed": true
   },
   "outputs": [],
   "source": [
    "cv3 = CountVectorizer(stop_words='english', min_df=2, max_df=.95, max_features=5000)"
   ]
  },
  {
   "cell_type": "code",
   "execution_count": null,
   "metadata": {
    "collapsed": true
   },
   "outputs": [],
   "source": [
    "tf = cv.fit_transform(df['text'])"
   ]
  },
  {
   "cell_type": "code",
   "execution_count": null,
   "metadata": {
    "collapsed": true
   },
   "outputs": [],
   "source": [
    "tf2 = cv2.fit_transform(df['text'])"
   ]
  },
  {
   "cell_type": "code",
   "execution_count": null,
   "metadata": {
    "collapsed": true
   },
   "outputs": [],
   "source": [
    "tf3 = cv3.fit_transform(df['text'])"
   ]
  },
  {
   "cell_type": "code",
   "execution_count": null,
   "metadata": {
    "collapsed": false
   },
   "outputs": [],
   "source": [
    "len(cv.get_feature_names())"
   ]
  },
  {
   "cell_type": "code",
   "execution_count": null,
   "metadata": {
    "collapsed": false
   },
   "outputs": [],
   "source": [
    "len(cv2.get_feature_names())"
   ]
  },
  {
   "cell_type": "code",
   "execution_count": null,
   "metadata": {
    "collapsed": true
   },
   "outputs": [],
   "source": [
    "lda_1 = LatentDirichletAllocation(n_topics=30, max_iter=100, n_jobs=4, doc_topic_prior=5.0, topic_word_prior=None, random_state=0)"
   ]
  },
  {
   "cell_type": "code",
   "execution_count": null,
   "metadata": {
    "collapsed": true
   },
   "outputs": [],
   "source": [
    "lda_2 = LatentDirichletAllocation(n_topics=30, max_iter=100, n_jobs=4, doc_topic_prior=5.0, topic_word_prior=None, random_state=0)"
   ]
  },
  {
   "cell_type": "code",
   "execution_count": null,
   "metadata": {
    "collapsed": true
   },
   "outputs": [],
   "source": [
    "lda_3 = LatentDirichletAllocation(n_topics=30, max_iter=100, n_jobs=4, doc_topic_prior=5.0, topic_word_prior=None, random_state=0)"
   ]
  },
  {
   "cell_type": "code",
   "execution_count": null,
   "metadata": {
    "collapsed": false
   },
   "outputs": [],
   "source": [
    "t0 = time()\n",
    "lda_1.fit(tf)\n",
    "print \"done in {0}\".format(time()-t0)"
   ]
  },
  {
   "cell_type": "code",
   "execution_count": null,
   "metadata": {
    "collapsed": false
   },
   "outputs": [],
   "source": [
    "t0 = time()\n",
    "lda_2.fit(tf2)\n",
    "print \"done in {0}\".format(time()-t0)"
   ]
  },
  {
   "cell_type": "code",
   "execution_count": null,
   "metadata": {
    "collapsed": false
   },
   "outputs": [],
   "source": [
    "t0 = time()\n",
    "lda_3.fit(tf3)\n",
    "print \"done in {0}\".format(time()-t0)"
   ]
  },
  {
   "cell_type": "code",
   "execution_count": null,
   "metadata": {
    "collapsed": false
   },
   "outputs": [],
   "source": [
    "lda_2.components_[0]"
   ]
  },
  {
   "cell_type": "code",
   "execution_count": null,
   "metadata": {
    "collapsed": true
   },
   "outputs": [],
   "source": [
    "def print_top_words(model, feature_names, n_top_words):\n",
    "    for topic_idx, topic in enumerate(model.components_):\n",
    "        print \"Topic #%d:\" % topic_idx\n",
    "        print \" \".join([feature_names[i] for i in topic.argsort()[:-n_top_words - 1:-1]])"
   ]
  },
  {
   "cell_type": "code",
   "execution_count": null,
   "metadata": {
    "collapsed": false
   },
   "outputs": [],
   "source": [
    "print_top_words(lda_1, cv.get_feature_names(), 20)"
   ]
  },
  {
   "cell_type": "code",
   "execution_count": null,
   "metadata": {
    "collapsed": false
   },
   "outputs": [],
   "source": [
    "print_top_words(lda_2, cv2.get_feature_names(), 20)"
   ]
  },
  {
   "cell_type": "code",
   "execution_count": null,
   "metadata": {
    "collapsed": false
   },
   "outputs": [],
   "source": [
    "print_top_words(lda_3, cv3.get_feature_names(), 20)"
   ]
  },
  {
   "cell_type": "markdown",
   "metadata": {},
   "source": [
    "Try using graplab"
   ]
  },
  {
   "cell_type": "code",
   "execution_count": null,
   "metadata": {
    "collapsed": false
   },
   "outputs": [],
   "source": [
    "lda_2.transform(tf2)[0]"
   ]
  },
  {
   "cell_type": "markdown",
   "metadata": {},
   "source": [
    "## Code Archive"
   ]
  }
 ],
 "metadata": {
  "kernelspec": {
   "display_name": "Python 2",
   "language": "python",
   "name": "python2"
  },
  "language_info": {
   "codemirror_mode": {
    "name": "ipython",
    "version": 2
   },
   "file_extension": ".py",
   "mimetype": "text/x-python",
   "name": "python",
   "nbconvert_exporter": "python",
   "pygments_lexer": "ipython2",
   "version": "2.7.13"
  }
 },
 "nbformat": 4,
 "nbformat_minor": 0
}
